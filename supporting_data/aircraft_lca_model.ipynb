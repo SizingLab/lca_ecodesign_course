{
 "cells": [
  {
   "cell_type": "markdown",
   "id": "4f91c8ee-5602-474b-b50a-5af579ec81e1",
   "metadata": {},
   "source": [
    "# LCA model for passenger air transport"
   ]
  },
  {
   "cell_type": "markdown",
   "id": "3686ed39-3f7a-4d0f-b725-37751840fa22",
   "metadata": {},
   "source": [
    "## Project setup"
   ]
  },
  {
   "cell_type": "code",
   "execution_count": null,
   "id": "5c30aff8-0354-4ea7-89e7-fc8261401b2d",
   "metadata": {},
   "outputs": [],
   "source": [
    "# Import libraries\n",
    "import brightway2 as bw\n",
    "import os \n",
    "import lca_algebraic as agb\n",
    "from sympy import init_printing\n",
    "import matplotlib.pyplot as plt\n",
    "\n",
    "# Pretty print for Sympy\n",
    "init_printing()\n",
    "\n",
    "# Set current project\n",
    "bw.projects.set_current('LCA_course')\n",
    "\n",
    "# Init user database\n",
    "USER_DB = 'Foreground Aircraft'\n",
    "agb.resetDb(USER_DB)"
   ]
  },
  {
   "cell_type": "markdown",
   "id": "0b79d3a2-2328-47c1-9387-952b8299a577",
   "metadata": {},
   "source": [
    "## LCA model creation"
   ]
  },
  {
   "cell_type": "code",
   "execution_count": null,
   "id": "1bb1bcc1-0fba-4335-bac9-a4f8fdad4b0b",
   "metadata": {},
   "outputs": [],
   "source": [
    "# Air transport activity from EcoInvent\n",
    "passenger_transport_ecoinvent = agb.findTechAct(\"transport, passenger aircraft, long haul\", loc='GLO')\n",
    "\n",
    "# Kerosene combustion activity\n",
    "combustion = agb.copyActivity(\n",
    "    USER_DB,\n",
    "    passenger_transport_ecoinvent,\n",
    "    \"kerosene combustion\"\n",
    ")\n",
    "combustion.deleteExchanges(\"aircraft, passenger, long haul\")\n",
    "combustion.deleteExchanges(\"airport\")\n",
    "combustion.deleteExchanges(\"kerosene\", single=False)\n",
    "combustion.updateMeta(phase=\"combustion\")\n",
    "\n",
    "# Airport\n",
    "airport = agb.findTechAct(\"market for airport\")\n",
    "airport = agb.copyActivity(\n",
    "    USER_DB,\n",
    "    airport,\n",
    "    \"market for airport\"\n",
    ")\n",
    "airport.updateMeta(phase=\"airport\")\n",
    "\n",
    "# Aircraft production\n",
    "aircraft_production = agb.findTechAct(\"market for aircraft, passenger, long haul\")\n",
    "aircraft_production = agb.copyActivity(\n",
    "    USER_DB,\n",
    "    aircraft_production,\n",
    "    \"market for aircraft production\"\n",
    ")\n",
    "aircraft_production.updateMeta(phase=\"aircraft_production\")\n",
    "\n",
    "# Kerosene production\n",
    "kerosene_production = agb.findTechAct(\"market for kerosene\", loc=\"RoW\")\n",
    "kerosene_production = agb.copyActivity(\n",
    "    USER_DB,\n",
    "    kerosene_production,\n",
    "    \"market for kerosene production\"\n",
    ")\n",
    "kerosene_production.updateMeta(phase=\"kerosene_production\")"
   ]
  },
  {
   "cell_type": "code",
   "execution_count": null,
   "id": "ace696db-e7cb-45e7-8edf-d1ae47f1876c",
   "metadata": {},
   "outputs": [],
   "source": [
    "# Fix for mismatch chemical formulas (until fixed by future brightway/lca-algebraic releases) \n",
    "# https://github.com/oie-mines-paristech/lca_algebraic/issues/44\n",
    "for act in [combustion, kerosene_production]:\n",
    "    for ex in act.exchanges():\n",
    "            if \"formula\" in ex: \n",
    "                del ex[\"formula\"]\n",
    "                ex.save()"
   ]
  },
  {
   "cell_type": "code",
   "execution_count": null,
   "id": "4e446bea-d2a2-41be-9ba7-6807ab045e4b",
   "metadata": {},
   "outputs": [],
   "source": [
    "# Air transport of one passenger kilometer\n",
    "passenger_transport = agb.newActivity(\n",
    "    USER_DB,\n",
    "    \"passenger transport, aircraft\",\n",
    "    \"one passenger kilometer\",\n",
    "    {combustion: 1.0,\n",
    "     airport: 8.88e-14,\n",
    "     aircraft_production: 2.299e-11,\n",
    "     kerosene_production: 0.026716876}\n",
    ")"
   ]
  },
  {
   "cell_type": "code",
   "execution_count": null,
   "id": "c122c28d-bd90-4c8c-ad7c-dd1de8ab469e",
   "metadata": {},
   "outputs": [],
   "source": [
    "# List of impact methods to consider\n",
    "impact_method = agb.findMethods(\"climate change\", mainCat=\"EF v3.1\")[0]\n",
    "\n",
    "# Compute impacts\n",
    "agb.compute_impacts(\n",
    "    \n",
    "    # Activity/Process to assess\n",
    "    [passenger_transport], \n",
    "    \n",
    "    # list of impacts to consider\n",
    "    [impact_method],\n",
    "\n",
    "    # Split impacts to get contributions from each phase of the lifecycle\n",
    "    axis=\"phase\",\n",
    ")"
   ]
  },
  {
   "cell_type": "code",
   "execution_count": null,
   "id": "1eccdea6-bcbc-42ad-b626-057536936a56",
   "metadata": {},
   "outputs": [],
   "source": [
    "# Validation\n",
    "agb.compute_impacts(\n",
    "    \n",
    "    # Activity/Process to assess\n",
    "    [passenger_transport_ecoinvent, passenger_transport], \n",
    "    \n",
    "    # list of impacts to consider\n",
    "    [impact_method], \n",
    ")"
   ]
  },
  {
   "cell_type": "markdown",
   "id": "3b2e4ab9-f07a-45a5-a0de-1295ecba58a2",
   "metadata": {},
   "source": [
    "## Export model"
   ]
  },
  {
   "cell_type": "code",
   "execution_count": null,
   "id": "1b54a591-688c-4b2e-b0f2-885815cbe89d",
   "metadata": {},
   "outputs": [],
   "source": [
    "# Save database and parameters as Bzipped JSON\n",
    "agb.export_db(USER_DB, \"./db_aircraft.bw2\")"
   ]
  },
  {
   "cell_type": "code",
   "execution_count": null,
   "id": "7335b2db-2b68-44b0-a648-fd91c4b99461",
   "metadata": {},
   "outputs": [],
   "source": []
  }
 ],
 "metadata": {
  "kernelspec": {
   "display_name": "Python 3 (ipykernel)",
   "language": "python",
   "name": "python3"
  },
  "language_info": {
   "codemirror_mode": {
    "name": "ipython",
    "version": 3
   },
   "file_extension": ".py",
   "mimetype": "text/x-python",
   "name": "python",
   "nbconvert_exporter": "python",
   "pygments_lexer": "ipython3",
   "version": "3.10.14"
  }
 },
 "nbformat": 4,
 "nbformat_minor": 5
}
