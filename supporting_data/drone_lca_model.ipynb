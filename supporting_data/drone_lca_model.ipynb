{
 "cells": [
  {
   "cell_type": "markdown",
   "id": "012d9925-8e2e-42d1-ab13-d9ba7b259959",
   "metadata": {},
   "source": [
    "# LCA model for electric drone"
   ]
  },
  {
   "cell_type": "markdown",
   "id": "8bd94bab-f242-4140-9505-98797df4caf4",
   "metadata": {},
   "source": [
    "## Project setup"
   ]
  },
  {
   "cell_type": "code",
   "execution_count": 1,
   "id": "a0d88918-65e6-497b-84b2-707ef1358005",
   "metadata": {},
   "outputs": [],
   "source": [
    "# Import libraries\n",
    "import brightway2 as bw\n",
    "import os \n",
    "import lca_algebraic as agb\n",
    "from sympy import init_printing\n",
    "import matplotlib.pyplot as plt\n",
    "\n",
    "# Pretty print for Sympy\n",
    "init_printing()\n",
    "\n",
    "# Set current project\n",
    "bw.projects.set_current('LCA_course')\n",
    "\n",
    "# Init user database\n",
    "USER_DB = 'Foreground Drone'\n",
    "agb.resetDb(USER_DB)"
   ]
  },
  {
   "cell_type": "markdown",
   "id": "55c45bc9-533f-443d-9003-41c66e037041",
   "metadata": {},
   "source": [
    "## LCA model creation"
   ]
  },
  {
   "cell_type": "code",
   "execution_count": 2,
   "id": "3e3197ab-9344-458d-afd6-312eb5578830",
   "metadata": {},
   "outputs": [
    {
     "data": {
      "text/html": [
       "<table>\n",
       "<thead>\n",
       "<tr><th>group  </th><th>name            </th><th>label           </th><th>default  </th><th style=\"text-align: right;\">  min</th><th style=\"text-align: right;\">  max</th><th>std  </th><th>distrib  </th><th>unit  </th><th>db              </th></tr>\n",
       "</thead>\n",
       "<tbody>\n",
       "<tr><td>       </td><td>battery_type    </td><td>battery type    </td><td>nmc      </td><td style=\"text-align: right;\">     </td><td style=\"text-align: right;\">     </td><td>     </td><td>         </td><td>      </td><td>Foreground Drone</td></tr>\n",
       "<tr><td>       </td><td>elec_mix        </td><td>elec mix        </td><td>eu       </td><td style=\"text-align: right;\">     </td><td style=\"text-align: right;\">     </td><td>     </td><td>         </td><td>      </td><td>Foreground Drone</td></tr>\n",
       "<tr><td>       </td><td>mass_batteries  </td><td>mass batteries  </td><td>0.59     </td><td style=\"text-align: right;\">    0</td><td style=\"text-align: right;\"> 1000</td><td>     </td><td>linear   </td><td>kg    </td><td>Foreground Drone</td></tr>\n",
       "<tr><td>       </td><td>mass_motors     </td><td>mass motors     </td><td>0.17     </td><td style=\"text-align: right;\">    0</td><td style=\"text-align: right;\"> 1000</td><td>     </td><td>linear   </td><td>kg    </td><td>Foreground Drone</td></tr>\n",
       "<tr><td>       </td><td>mass_propellers </td><td>mass propellers </td><td>0.06     </td><td style=\"text-align: right;\">    0</td><td style=\"text-align: right;\"> 1000</td><td>     </td><td>linear   </td><td>kg    </td><td>Foreground Drone</td></tr>\n",
       "<tr><td>       </td><td>mass_structure  </td><td>mass structure  </td><td>0.27     </td><td style=\"text-align: right;\">    0</td><td style=\"text-align: right;\"> 1000</td><td>     </td><td>linear   </td><td>kg    </td><td>Foreground Drone</td></tr>\n",
       "<tr><td>       </td><td>mission_energy  </td><td>mission energy  </td><td>0.11     </td><td style=\"text-align: right;\">    0</td><td style=\"text-align: right;\"> 1000</td><td>     </td><td>linear   </td><td>kWh   </td><td>Foreground Drone</td></tr>\n",
       "<tr><td>       </td><td>n_cycles_battery</td><td>n cycles battery</td><td>500.0    </td><td style=\"text-align: right;\">    1</td><td style=\"text-align: right;\">10000</td><td>     </td><td>linear   </td><td>      </td><td>Foreground Drone</td></tr>\n",
       "<tr><td>       </td><td>n_missions      </td><td>n missions      </td><td>2500.0   </td><td style=\"text-align: right;\">    0</td><td style=\"text-align: right;\">10000</td><td>     </td><td>linear   </td><td>      </td><td>Foreground Drone</td></tr>\n",
       "</tbody>\n",
       "</table>"
      ],
      "text/plain": [
       "<IPython.core.display.HTML object>"
      ]
     },
     "execution_count": 2,
     "metadata": {},
     "output_type": "execute_result"
    }
   ],
   "source": [
    "### Définition des paramètres\n",
    "\n",
    "# Energie consommée sur une mission\n",
    "mission_energy = agb.newFloatParam(  # ce paramètre est un nombre (float)\n",
    "    'mission_energy',  # nom du paramètre\n",
    "    default=0.110,  # valeur par défaut\n",
    "    unit='kWh',  # unité\n",
    "    min=0, max=1000,  # bornes sur ce paramètre (non utilisé ici)\n",
    "    description=\"energy consumption for a single mission\",  # description\n",
    "    dbname=USER_DB  # on enregistre le paramètre dans notre base de données foreground\n",
    ")\n",
    "\n",
    "# Durée de vie du drone, en nombre de missions réalisées --> pour calculer l'énergie totale consommée sur la durée de vie du drone\n",
    "n_missions = agb.newFloatParam(\n",
    "    'n_missions',\n",
    "    default=2500.0,\n",
    "    min=0, max=10000,\n",
    "    description=\"number of missions over drone lifetime\",\n",
    "    dbname=USER_DB\n",
    ")\n",
    "\n",
    "# Mix électrique\n",
    "elec_switch_param = agb.newEnumParam(  # ce paramètre est un switch\n",
    "    'elec_mix',\n",
    "    values=['us', 'eu', 'fr'], # valeurs possibles de ce paramètre\n",
    "    default='eu',\n",
    "    description=\"switch on electricty mix\",\n",
    "    dbname=USER_DB\n",
    ")\n",
    "\n",
    "# Masse des hélices\n",
    "mass_propellers = agb.newFloatParam(\n",
    "    'mass_propellers',\n",
    "    default=0.06,\n",
    "    unit='kg',\n",
    "    min=0, max=1000,\n",
    "    description=\"mass of propellers\",\n",
    "    dbname=USER_DB\n",
    ")\n",
    "\n",
    "# Masse de moteurs\n",
    "mass_motors = agb.newFloatParam(\n",
    "    'mass_motors',\n",
    "    default=0.17,\n",
    "    unit='kg',\n",
    "    min=0, max=1000,\n",
    "    description=\"mass of motors\",\n",
    "    dbname=USER_DB\n",
    ")\n",
    "\n",
    "# Masse de la structure\n",
    "mass_structure = agb.newFloatParam(\n",
    "    'mass_structure',\n",
    "    default=0.27,\n",
    "    unit='kg',\n",
    "    min=0, max=1000,\n",
    "    description=\"mass of structure\",\n",
    "    dbname=USER_DB\n",
    ")\n",
    "\n",
    "# Masse de la batterie\n",
    "mass_batteries = agb.newFloatParam(\n",
    "    'mass_batteries',\n",
    "    default=0.59,\n",
    "    unit='kg',\n",
    "    min=0, max=1000,\n",
    "    description=\"mass of batteries\",\n",
    "    dbname=USER_DB\n",
    ")\n",
    "\n",
    "# Durée de vie de la batterie, en nombre de cycles\n",
    "n_cycles_battery = agb.newFloatParam(  # ce paramètre est un nombre (float)\n",
    "    'n_cycles_battery',  # nom du paramètre\n",
    "    default=500.0,  # valeur par défaut\n",
    "    min=1, max=10000,  # bornes sur ce paramètre (non utilisé ici)\n",
    "    description=\"number of cycles for the battery\",\n",
    "    dbname=USER_DB\n",
    ")\n",
    "\n",
    "# Types de batterie\n",
    "battery_type = agb.newEnumParam(\n",
    "    'battery_type',\n",
    "    values=[\"nmc\", \"lfp\"],  # valeurs possibles de ce paramètre (différentes technologies de batteries)\n",
    "    default=\"nmc\",\n",
    "    description=\"battery technology\",\n",
    "    dbname=USER_DB\n",
    ")\n",
    "\n",
    "agb.list_parameters()"
   ]
  },
  {
   "cell_type": "code",
   "execution_count": 3,
   "id": "941e103b-78b7-48e8-b4ef-44236a92c6e7",
   "metadata": {},
   "outputs": [],
   "source": [
    "# Background activities\n",
    "battery_nmc = agb.findTechAct(\"Market for battery cell, Li-ion, NMC811\")\n",
    "battery_lfp = agb.findTechAct(\"Market for battery cell, Li-ion, LFP\")\n",
    "electric_motor = agb.findTechAct(\"Market for electric motor, for electric scooter\")\n",
    "composite = agb.findTechAct(\"Market for carbon fibre reinforced plastic, injection moulded\")\n",
    "electricity_eu = agb.findTechAct(\"Market group for electricity, low voltage\", loc='Europe without Switzerland')\n",
    "electricity_us = agb.findTechAct(\"Market group for electricity, low voltage\", loc='US')\n",
    "electricity_fr = agb.findTechAct(\"Market for electricity, low voltage\", loc='FR')"
   ]
  },
  {
   "cell_type": "code",
   "execution_count": 4,
   "id": "4c715de1-0c38-4178-b5e6-002f751afa8a",
   "metadata": {},
   "outputs": [],
   "source": [
    "from sympy import ceiling\n",
    "\n",
    "### NIVEAU -2 ###\n",
    "# Création du processus \"battery\" pour sélectionner le type de batterie et le nombre de batteries nécessaires au cours de la vie du drone\n",
    "battery = agb.newSwitchAct(\n",
    "    USER_DB,    # on enregistre le processus dans notre base de données foreground \n",
    "    \"battery\",  # nom du processus\n",
    "    battery_type,  # paramètre de switch précedemment défini\n",
    "    { # processus à sélectionner selon de la valeur du switch\n",
    "        \"nmc\": battery_nmc,\n",
    "        \"lfp\": battery_lfp,\n",
    "    }\n",
    ")\n",
    "battery.updateMeta(subphase=\"batteries\")\n",
    "\n",
    "# Création du processus \"propeller\" pour définir le type d'hélice du drone\n",
    "propeller = agb.newActivity(\n",
    "    USER_DB,\n",
    "    \"propeller\",\n",
    "    \"kg\",  # unité\n",
    "    exchanges={  # échanges avec les autres processus, sous la forme (processus : quantité fixe ou définie à partir d'une formule)\n",
    "        composite: 1.0,  # pour 1 kg d'hélices on a besoin de 1 kg de composite\n",
    "        # composite: 0.8  # on peut également définir une valeur inférieure à 1.0 pour prendre en compte le recyclage\n",
    "    }\n",
    ")\n",
    "propeller.updateMeta(subphase=\"propellers\")\n",
    "\n",
    "# Création du processus \"motor\"\n",
    "motor = agb.newActivity(\n",
    "    USER_DB, \n",
    "    \"motor\",\n",
    "    \"kg\",\n",
    "    exchanges={\n",
    "        electric_motor: 1.0,\n",
    "    }\n",
    ")\n",
    "motor.updateMeta(subphase=\"motors\")\n",
    "\n",
    "# Création du processus \"structures\"\n",
    "structure = agb.newActivity(\n",
    "    USER_DB,\n",
    "    \"structure\",\n",
    "    \"kg\",\n",
    "    exchanges={\n",
    "        composite: 1.0,\n",
    "        # aluminium: 0.8,\n",
    "    }\n",
    ")\n",
    "structure.updateMeta(subphase=\"structures\")\n",
    "\n",
    "### NIVEAU -1 ###\n",
    "# Création du processus \"production d'un drone\"\n",
    "production = agb.newActivity(\n",
    "    USER_DB, \n",
    "    \"production\", \n",
    "    \"drone unit\", # Unité\n",
    "    exchanges= { # échanges avec les autres processus, sous la forme (processus : quantité définie à partir d'une formule)\n",
    "        structure: mass_structure, \n",
    "        propeller: mass_propellers,\n",
    "        motor: mass_motors,\n",
    "        battery: mass_batteries * ceiling(n_missions / n_cycles_battery),  # on référence le processus \"battery\" que l'on vient de créer\n",
    "    })\n",
    "production.updateMeta(phase=\"drone production\")\n",
    "\n",
    "# Création du processus \"operation\" pour la consommation d'énergie en vol.\n",
    "operation = agb.newSwitchAct(\n",
    "    USER_DB, \n",
    "    \"operation\",\n",
    "    elec_switch_param, # paramètre de switch\n",
    "    {\n",
    "        \"us\" : electricity_us,\n",
    "        \"eu\" : electricity_eu,\n",
    "        \"fr\" : electricity_fr,\n",
    "    })\n",
    "operation.updateMeta(phase=\"use phase\")\n",
    "operation.updateMeta(subphase=\"electricity\")\n",
    "\n",
    "\n",
    "### NIVEAU 0 ###\n",
    "# Dernière pièce du puzzle: création du processus principal permettant de fournir une unité fonctionnelle\n",
    "model = agb.newActivity(\n",
    "    USER_DB,\n",
    "    \"package transport, drone\",\n",
    "    \"one package delivery\",  # impacts exprimés par colis livré\n",
    "    exchanges= {\n",
    "        production: 1.0 / n_missions,  # on a besoin de 1 drone...\n",
    "        operation: mission_energy,  # ...et d'une certaine quantité d'électricité\n",
    "    }\n",
    ")"
   ]
  },
  {
   "cell_type": "code",
   "execution_count": 5,
   "id": "3feafdf0-1be1-4af7-ba89-efe3b2bb2ce9",
   "metadata": {},
   "outputs": [
    {
     "name": "stdout",
     "output_type": "stream",
     "text": [
      "lca_activities.html\n"
     ]
    },
    {
     "data": {
      "text/html": [
       "\n",
       "        <iframe\n",
       "            width=\"100%\"\n",
       "            height=\"500px\"\n",
       "            src=\"lca_activities.html\"\n",
       "            frameborder=\"0\"\n",
       "            allowfullscreen\n",
       "            \n",
       "        ></iframe>\n",
       "        "
      ],
      "text/plain": [
       "<IPython.lib.display.IFrame at 0x7febfda1fcd0>"
      ]
     },
     "execution_count": 5,
     "metadata": {},
     "output_type": "execute_result"
    }
   ],
   "source": [
    "# Plot process tree\n",
    "from helpers import *\n",
    "\n",
    "NETWORK_PATH = './lca_activities.html'\n",
    "graph_activities(USER_DB, model, NETWORK_PATH)\n",
    "\n",
    "from IPython.display import IFrame\n",
    "IFrame(src='lca_activities.html', width=\"100%\", height=\"500px\")"
   ]
  },
  {
   "cell_type": "code",
   "execution_count": 6,
   "id": "1f6e1448-fc41-4694-bb7e-65ae72a0aa45",
   "metadata": {},
   "outputs": [
    {
     "name": "stderr",
     "output_type": "stream",
     "text": [
      "[INFO] Db changed recently, clearing cache expr\n",
      "[INFO] Db changed recently, clearing cache lcia\n"
     ]
    },
    {
     "name": "stdout",
     "output_type": "stream",
     "text": [
      "Intel MKL WARNING: Support of Intel(R) Streaming SIMD Extensions 4.2 (Intel(R) SSE4.2) enabled only processors has been deprecated. Intel oneAPI Math Kernel Library 2025.0 will require Intel(R) Advanced Vector Extensions (Intel(R) AVX) instructions.\n"
     ]
    },
    {
     "name": "stderr",
     "output_type": "stream",
     "text": [
      "[INFO] Required param 'n_cycles_battery' was missing, replacing by default value : 500.0\n",
      "[INFO] Required param 'mass_motors' was missing, replacing by default value : 0.17\n",
      "[INFO] Required param 'mission_energy' was missing, replacing by default value : 0.11\n",
      "[INFO] Required param 'n_missions' was missing, replacing by default value : 2500.0\n",
      "[INFO] Required param 'mass_batteries' was missing, replacing by default value : 0.59\n",
      "[INFO] Required param 'battery_type' was missing, replacing by default value : nmc\n",
      "[INFO] Required param 'mass_structure' was missing, replacing by default value : 0.27\n",
      "[INFO] Required param 'elec_mix' was missing, replacing by default value : eu\n",
      "[INFO] Required param 'mass_propellers' was missing, replacing by default value : 0.06\n"
     ]
    },
    {
     "data": {
      "text/html": [
       "<div>\n",
       "<style scoped>\n",
       "    .dataframe tbody tr th:only-of-type {\n",
       "        vertical-align: middle;\n",
       "    }\n",
       "\n",
       "    .dataframe tbody tr th {\n",
       "        vertical-align: top;\n",
       "    }\n",
       "\n",
       "    .dataframe thead th {\n",
       "        text-align: right;\n",
       "    }\n",
       "</style>\n",
       "<table border=\"1\" class=\"dataframe\">\n",
       "  <thead>\n",
       "    <tr style=\"text-align: right;\">\n",
       "      <th></th>\n",
       "      <th>climate change - global warming potential (GWP100)[kg CO2-Eq]</th>\n",
       "    </tr>\n",
       "    <tr>\n",
       "      <th>subphase</th>\n",
       "      <th></th>\n",
       "    </tr>\n",
       "  </thead>\n",
       "  <tbody>\n",
       "    <tr>\n",
       "      <th>_other_</th>\n",
       "      <td>0</td>\n",
       "    </tr>\n",
       "    <tr>\n",
       "      <th>batteries</th>\n",
       "      <td>0.0186888</td>\n",
       "    </tr>\n",
       "    <tr>\n",
       "      <th>electricity</th>\n",
       "      <td>0.0362188</td>\n",
       "    </tr>\n",
       "    <tr>\n",
       "      <th>motors</th>\n",
       "      <td>0.000643343</td>\n",
       "    </tr>\n",
       "    <tr>\n",
       "      <th>propellers</th>\n",
       "      <td>0.0020194</td>\n",
       "    </tr>\n",
       "    <tr>\n",
       "      <th>structures</th>\n",
       "      <td>0.00908731</td>\n",
       "    </tr>\n",
       "    <tr>\n",
       "      <th>*sum*</th>\n",
       "      <td>0.0666577</td>\n",
       "    </tr>\n",
       "  </tbody>\n",
       "</table>\n",
       "</div>"
      ],
      "text/plain": [
       "             climate change - global warming potential (GWP100)[kg CO2-Eq]\n",
       "subphase                                                                  \n",
       "_other_                                                      0            \n",
       "batteries                                            0.0186888            \n",
       "electricity                                          0.0362188            \n",
       "motors                                             0.000643343            \n",
       "propellers                                           0.0020194            \n",
       "structures                                          0.00908731            \n",
       "*sum*                                                0.0666577            "
      ]
     },
     "execution_count": 6,
     "metadata": {},
     "output_type": "execute_result"
    }
   ],
   "source": [
    "# Impact calculation test\n",
    "\n",
    "# List of impact methods to consider\n",
    "impact_method = agb.findMethods(\"climate change\", mainCat=\"EF v3.1\")[0]\n",
    "\n",
    "# Compute impacts\n",
    "agb.compute_impacts(\n",
    "    \n",
    "    # Activity/Process to assess\n",
    "    model, \n",
    "    \n",
    "    # list of impacts to consider\n",
    "    [impact_method], \n",
    "\n",
    "    axis=\"subphase\"\n",
    ")"
   ]
  },
  {
   "cell_type": "markdown",
   "id": "584f0c91-5e6b-4f2c-b212-e958b5f53e23",
   "metadata": {},
   "source": [
    "## Export model"
   ]
  },
  {
   "cell_type": "code",
   "execution_count": 7,
   "id": "1413a442-f948-42d4-a338-e76324de08ff",
   "metadata": {},
   "outputs": [],
   "source": [
    "# Save database and parameters as Bzipped JSON\n",
    "agb.export_db(USER_DB, \"./db_drone.bw2\")"
   ]
  },
  {
   "cell_type": "code",
   "execution_count": null,
   "id": "cd91c00f-3aae-431d-b292-f501cfcda3f5",
   "metadata": {},
   "outputs": [],
   "source": []
  }
 ],
 "metadata": {
  "kernelspec": {
   "display_name": "Python 3 (ipykernel)",
   "language": "python",
   "name": "python3"
  },
  "language_info": {
   "codemirror_mode": {
    "name": "ipython",
    "version": 3
   },
   "file_extension": ".py",
   "mimetype": "text/x-python",
   "name": "python",
   "nbconvert_exporter": "python",
   "pygments_lexer": "ipython3",
   "version": "3.10.14"
  }
 },
 "nbformat": 4,
 "nbformat_minor": 5
}
