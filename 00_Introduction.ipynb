{
 "cells": [
  {
   "cell_type": "markdown",
   "id": "e9dde801-accf-4627-bc31-d93492d5f21a",
   "metadata": {},
   "source": [
    "# Introduction\n",
    "\n",
    "````{card}\n",
    "Author\n",
    "^^^\n",
    "Félix POLLET <br>\n",
    "[felix.pollet@isae-supaero.fr](felix.pollet@isae-supaero.fr)\n",
    "````\n",
    "\n",
    "## Overview\n",
    "\n",
    "This course is designed to help you gain hands-on experience with Life Cycle Assessment (LCA) and learn how to use LCA to drive sustainable practices. It is structured around two distinct applications:\n",
    "\n",
    "1. [**LCA of Passenger Transportation by Aircraft**](./01_aircraft_lca.ipynb) <br>\n",
    "In this application, you will explore the environmental footprint of passenger transportation via aircraft and gain insights into the key contributors to the aircraft's environmental impacts.\n",
    "\n",
    "2. [**Eco-design to Minimize Environmental Impacts of a Drone**](./02_drone_ecodesign.ipynb)<br>\n",
    "   The second application centers on designing a drone with sustainability in mind. You'll examine how different design choices can reduce environmental impacts and confront the critical challenge of making trade-off decisions.\n",
    "\n",
    "\n",
    "```{note} Prerequisites\n",
    "The course is designed to be accessible to learners from diverse backgrounds. Basic knowledge of Python programming is helpful but not required. The aim is not to make you an expert LCA developer or practitioner, but to give you the basic skills to analyze the results of an LCA and make informed decisions based on the results.\n",
    "\n",
    "```\n",
    "\n",
    "```{seealso} LCA software and resources used in this course\n",
    "The course, presented in the form of interactive [Jupyter Notebooks](https://jupyter.org/), makes use of the following software and resources:\n",
    "\n",
    "**Software**: Most of the calculations and analyses carried out in the notebooks rely on the open-source [Brightway](https://docs.brightway.dev/en/latest/) and [lca_algebraic](https://github.com/oie-mines-paristech/lca_algebraic) Python libraries.\n",
    "\n",
    "**LCI database**: The life cycle inventory database [EcoInvent](https://ecoinvent.org/) will be used to support the LCA studies.\n",
    "\n",
    "Again, you don't need to have prior experience with these tools. The Jupyter Notebooks contain pre-defined functions and code snippets, allowing you to focus on exploring LCA concepts and conducting exercises without worrying about complex software manipulation.\n",
    "\n",
    "```\n",
    "\n",
    "## Ready to start?\n",
    "Before delving into the case studies, we start here by setting up the project by importing the necessary packages and resources. Execute the following cell by clicking on it and hitting **Shift+Enter**. \n",
    "\n",
    ":::{attention}\n",
    "The setup may take a few minutes. Be patient!\n",
    ":::"
   ]
  },
  {
   "cell_type": "code",
   "execution_count": null,
   "id": "97307966-9194-41ec-9ece-6143def7a7ab",
   "metadata": {},
   "outputs": [],
   "source": [
    "import brightway2 as bw\n",
    "import os \n",
    "import bw2io\n",
    "from dotenv import load_dotenv\n",
    "\n",
    "# Set the current project\n",
    "# Can be any name\n",
    "bw.projects.set_current('LCA_course')\n",
    "\n",
    "# Load .env file into os.environ\n",
    "load_dotenv()\n",
    "\n",
    "# Download EcoInvent and install LCIA methods\n",
    "if len(bw.databases) > 0:\n",
    "    print(\"Initial setup already done, skipping\")\n",
    "else:\n",
    "    bw2io.import_ecoinvent_release(\n",
    "        version=\"3.10\",\n",
    "        system_model=\"cutoff\",\n",
    "        username=os.environ[\"ECOINVENT_LOGIN\"],\n",
    "        password=os.environ[\"ECOINVENT_PASSWORD\"],\n",
    "        use_mp=True)"
   ]
  }
 ],
 "metadata": {
  "kernelspec": {
   "display_name": "Python 3 (ipykernel)",
   "language": "python",
   "name": "python3"
  },
  "language_info": {
   "codemirror_mode": {
    "name": "ipython",
    "version": 3
   },
   "file_extension": ".py",
   "mimetype": "text/x-python",
   "name": "python",
   "nbconvert_exporter": "python",
   "pygments_lexer": "ipython3",
   "version": "3.10.14"
  }
 },
 "nbformat": 4,
 "nbformat_minor": 5
}
