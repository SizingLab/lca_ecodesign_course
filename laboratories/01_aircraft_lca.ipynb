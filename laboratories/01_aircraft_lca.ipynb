{
 "cells": [
  {
   "cell_type": "markdown",
   "id": "3fac9002-21b0-4273-8448-7ff1cae638ea",
   "metadata": {},
   "source": [
    "# Life Cycle Assessement of passenger air transport\n",
    "\n",
    "````{card}\n",
    "Author\n",
    "^^^\n",
    "Félix POLLET <br>\n",
    "[felix.pollet@isae-supaero.fr](felix.pollet@isae-supaero.fr)\n",
    "````\n",
    "\n",
    "The purpose of this notebook is to provide a first insight into the LCA methodology with a case study in aviation. No specific programming knowledge is required, as the aim is not to become an expert LCA developer, but rather to gain a basic understanding of how to analyse and interpret the results."
   ]
  },
  {
   "cell_type": "markdown",
   "id": "f38f362a-fa5e-4520-8d87-d59b21eb2392",
   "metadata": {},
   "source": [
    "## 1. Goal and scope\n",
    "\n",
    "The first phase of an LCA study is to define the objective and the scope. This is a crucial step because it determines your results and how you interpret and review them. Specifically, the following elements need to be defined:\n",
    "\n",
    "* **Goal**: What is the purpose of the study? Do you want to know the environmental impacts of an existing product/system? To compare different products? Or to guide the design of a product under development? You can also define who the study is for (R&D engineers? Customers? Decision makers inside or outside your organisation?)\n",
    "\n",
    "* **Product & Functional Unit**: What is the function of the product or system you are evaluating? For example, will you be evaluating an aircraft for fire fighting? Or for passenger transport (short/long haul)? This involves defining a functional unit, which is a quantification of the function and performance requirements. The functional unit must therefore reflect a quantity (e.g. move $x$ passengers over $y$ kilometres), a performance (e.g. for long distances) and a duration (e.g. for a period of 25 years).\n",
    "\n",
    "* **Boundaries**: What is included in the study? What is outside the scope? In particular, it must be made clear if any phase of the life cycle is excluded. This will be very important when collecting data for the Life Cycle Inventory.\n",
    "  \n",
    "* **Methodological choices**: What LCIA methods will you use? Where will the supporting data come from (primary data from your company or an external database such as EcoInvent)? \n",
    "\n",
    "\n",
    "```{admonition} (Exercise) Goal & scope for passenger air transport LCA\n",
    ":class: tip\n",
    "\n",
    "Define the goal and scope for the current case study.\n",
    "```\n"
   ]
  },
  {
   "cell_type": "markdown",
   "id": "79c231f0-aa8b-4fe2-bd1d-3f6d4ef3778d",
   "metadata": {},
   "source": [
    "### Python setup\n",
    "Now that the goal & scope are defined, let's start the LCA calculations! The following lines allow you to set up the project and import the necessary materials for the needs of the case study. Run them without any changes."
   ]
  },
  {
   "cell_type": "code",
   "execution_count": null,
   "id": "6225422a-3c14-4636-ba49-b0caf66c0050",
   "metadata": {},
   "outputs": [],
   "source": [
    "# Import libraries\n",
    "import os \n",
    "from dotenv import load_dotenv\n",
    "load_dotenv(\".env\")\n",
    "if os.getenv(\"BRIGHTWAY2_DIR\"): os.environ[\"BRIGHTWAY2_DIR\"] = os.getenv(\"BRIGHTWAY2_DIR\")\n",
    "import brightway2 as bw\n",
    "import lca_algebraic as agb\n",
    "from sympy import init_printing\n",
    "import matplotlib.pyplot as plt\n",
    "from assets.models.helpers import *\n",
    "\n",
    "# Pretty print for Sympy\n",
    "init_printing()\n",
    "\n",
    "# Set current project\n",
    "bw.projects.set_current('LCA_course')\n",
    "agb.resetParams()\n",
    "\n",
    "# Import database for aircraft LCA model\n",
    "agb.import_db(\"assets/models/db_aircraft.bw2\")\n",
    "USER_DB = 'Foreground Aircraft'"
   ]
  },
  {
   "cell_type": "markdown",
   "id": "908db815-1664-421c-99e2-812247d636b4",
   "metadata": {},
   "source": [
    "## 2. Climate impact of aircraft production\n",
    "\n",
    "As a preliminary exercise, we will narrow the scope to the climate impact of the aircraft production.\n",
    "\n",
    "The representative aircraft for this LCA study has an operating empty weight (OEW) of 135 tons (similar to a Boeing B787-10). The mass breakdown and the energy consumption from the manufacturing facilities are provided in the following table.\n",
    "\n",
    "| Material, Energy, or Substance | Amount |\n",
    "| --- | --- |\n",
    "| Aluminium | 56.5% of OEW |\n",
    "| Composite | 25% of OEW |\n",
    "| Steel | 11.5% of OEW |\n",
    "| Titanium | 4.5% of OEW |\n",
    "| Nickel | 2.5% of OEW |\n",
    "| Electricity (facilities and manufacturing processes) | 3 500 kWh |\n",
    "\n",
    "A detailed LCA study would require the collection of data on the production of each material/energy/substance. For example, the production of wrought aluminium requires some primary aluminium, electricity to produce heat and a mix of chemicals. The production of electricity requires a mix of power plants, and so on. In this course, to facilitate data collection, we use a database ([*EcoInvent*](https://ecoinvent.org/)) which provides data sets for a number of pre-defined *activities*.\n",
    "\n",
    "````{prf:definition} Activity\n",
    ":label: activity\n",
    "\n",
    "**Activity**: making or doing something. Activities include human activities (production, consumption, and market activities, as well as accumulation of stocks) and environmental mechanisms.\n",
    "````\n",
    "\n",
    "The following lines enable you to select from the EcoInvent database the activities related to the production of aluminium, composite and steel, accounting for the transport of the components to the final assembly line:"
   ]
  },
  {
   "cell_type": "code",
   "execution_count": null,
   "id": "fe7eb1e7-6773-42ef-818f-fe9e44836fbe",
   "metadata": {},
   "outputs": [],
   "source": [
    "# Selection of activities \n",
    "alu = agb.findTechAct(\"market for aluminium, wrought alloy\")\n",
    "composite = agb.findTechAct(\"market for carbon fibre reinforced plastic, injection moulded\")\n",
    "steel = agb.findTechAct(\"market for steel, chromium steel 18/8\")"
   ]
  },
  {
   "cell_type": "markdown",
   "id": "f6552b85-6830-4b65-b23c-4a0f2133ecec",
   "metadata": {},
   "source": [
    ":::{note} (Hint) Market activity\n",
    "A *market activity* represents an average mix of production activities, and accounting for the transportation and potential losses of products from the production sites to the consumer's place.\n",
    ":::\n",
    "\n",
    "A quick documentation for each activity is available using the Python function `as_dict()`. Pay particular attention to the unit (e.g. kilogram of material produced) in which the activities are provided."
   ]
  },
  {
   "cell_type": "code",
   "execution_count": null,
   "id": "677e89d7-59b7-4604-8bdd-3e941d7d632c",
   "metadata": {},
   "outputs": [],
   "source": [
    "# Access to documentation of the activity\n",
    "alu.as_dict()"
   ]
  },
  {
   "cell_type": "markdown",
   "id": "ccf12c6e-4511-417c-9a0c-2f8b1880de17",
   "metadata": {},
   "source": [
    ":::{note} (Hint) Geographic location\n",
    "When available in the database, it is possible to define a geographic location to further refine the assessment. In EcoInvent the default location `GLO` refers to an average global value. `CN` refers to a production in China, `US` to the United States, etc. `RoW` corresponds to a global average but excluding the other regions that are included for that particular set of data (e.g., `GLO` minus `CN` and `US`).\n",
    ":::"
   ]
  },
  {
   "cell_type": "code",
   "execution_count": null,
   "id": "b87dce79-b49c-472e-968c-12d5b5dd9fd8",
   "metadata": {},
   "outputs": [],
   "source": [
    "# Activities with geographic selection\n",
    "elec = agb.findTechAct(\"market group for electricity, medium voltage\", loc='GLO')  # global average mix\n",
    "elec = agb.findTechAct(\"market group for electricity, medium voltage\", loc='Europe without Switzerland')  # European mix\n",
    "nickel = agb.findTechAct(\"market for nickel, class 1\", loc='GLO')\n",
    "titanium = agb.findTechAct(\"market for titanium\", loc='GLO')"
   ]
  },
  {
   "cell_type": "markdown",
   "id": "da091b5b-2e9b-4fd0-8416-292c293b12d4",
   "metadata": {},
   "source": [
    ":::{note} (Hint) Database exploration\n",
    "If you want to further explore the EcoInvent database, you can make a search for a specific word as in the following cell of code.\n",
    ":::\n"
   ]
  },
  {
   "cell_type": "code",
   "execution_count": null,
   "id": "e74ce42e-e702-49b1-9d27-0fe312212db7",
   "metadata": {},
   "outputs": [],
   "source": [
    "agb.findTechAct(\"nickel*\", single=False)  # Find all activities in EcoInvent that contain the word 'nickel'"
   ]
  },
  {
   "cell_type": "markdown",
   "id": "725c500d-0715-4075-b4f6-3f51065dc61f",
   "metadata": {},
   "source": [
    "The next step is to aggregate the individual activities to represent the parent activity, here the production of an aircraft.\n",
    "\n",
    "```{admonition} (Exercise) Aircraft production activity\n",
    ":class: tip\n",
    "\n",
    "Complete the following lines of code to define the activity of aircraft production.\n",
    "```"
   ]
  },
  {
   "cell_type": "code",
   "execution_count": null,
   "id": "6cc600ab-80dc-4f35-be48-09a11fcea50c",
   "metadata": {},
   "outputs": [],
   "source": [
    "# Create an activity for aircraft production\n",
    "aircraft_production = agb.newActivity(USER_DB,\n",
    "    \"aircraft production\",  # declare the name of the new activity\n",
    "    \"unit\",  # unit in which the activity is expressed. Here, the unit is 'one unit of aircraft'.\n",
    "    {  # The following lines define the amount of each sub-activity that is required to achieve the parent activity\n",
    "        alu: 0.6*135e3,  # [kg] amount of aluminium required for the production of one aircraft\n",
    "        composite: 0.25*135e3,  # [kg] amount of composite required for the production of one aircraft\n",
    "        #... TO COMPLETE\n",
    "    }\n",
    ")"
   ]
  },
  {
   "cell_type": "markdown",
   "id": "72861cfc-04a2-4e5c-a86d-e6debae16519",
   "metadata": {},
   "source": [
    "The last step to obtain the LCA results is to select an LCIA method for calculating the impact on climate change. In this example, we use the *Environmental Footprint* (EF) method adopted by the European Commission as a standard to help companies to calculate their environmental performance."
   ]
  },
  {
   "cell_type": "code",
   "execution_count": null,
   "id": "5423c930-76f1-42f8-b202-981c89073082",
   "metadata": {},
   "outputs": [],
   "source": [
    "# Select LCIA method for climate change\n",
    "climate_change = agb.findMethods(\"climate change\", mainCat=\"EF v3.1\")[0]\n",
    "\n",
    "# Hint: all available methods for calculation of climate change can be listed by uncommenting the following line\n",
    "# agb.findMethods(\"climate change\")"
   ]
  },
  {
   "cell_type": "markdown",
   "id": "98193dc2-3e7d-4058-a564-63d36170d321",
   "metadata": {},
   "source": [
    "And voilà! Everything is now ready to calculate the impact on climate change related to the production of an aircraft."
   ]
  },
  {
   "cell_type": "code",
   "execution_count": null,
   "id": "f1b8cb74-8871-4702-a283-8eff24d77fe9",
   "metadata": {},
   "outputs": [],
   "source": [
    "agb.compute_impacts(\n",
    "    \n",
    "    # Activity to assess\n",
    "    aircraft_production, \n",
    "    \n",
    "    # list of impact(s) to consider\n",
    "    [climate_change], \n",
    ")"
   ]
  },
  {
   "cell_type": "markdown",
   "id": "9ca5544d-7286-499d-ac84-0d6ba85b5e53",
   "metadata": {},
   "source": [
    "That's a lot of CO2 (is it?). What if we express this impact per passenger-kilometre to make it easier to interpret?"
   ]
  },
  {
   "cell_type": "code",
   "execution_count": null,
   "id": "946bf644-b698-487f-9da6-d89da6ebc543",
   "metadata": {},
   "outputs": [],
   "source": [
    "agb.compute_impacts(\n",
    "    \n",
    "    # Activity/Process to assess\n",
    "    aircraft_production, \n",
    "    \n",
    "    # list of impacts to consider\n",
    "    [climate_change], \n",
    "    \n",
    "    # The impacts will be divided by the functional unit\n",
    "    functional_unit=4.35e10  # estimated number of pax.km over the aircraft life cycle, to obtain a score per passenger.kilometer\n",
    ")"
   ]
  },
  {
   "cell_type": "markdown",
   "id": "7b9ceccc-5b45-40b2-bfe3-d67e96056c2b",
   "metadata": {},
   "source": [
    "```{admonition} (Exercise) Contribution of aircraft production to climate change\n",
    ":class: tip\n",
    "\n",
    "How much do you think aircraft production contributes to the overall impact of transporting a passenger? 50%? 10%? Less?\n",
    "```\n",
    "\n",
    "In the next section, we will answer this question by evaluating the impact of transporting a passenger, taking into account the other phases of the lifecycle such as the combustion of kerosene during the flight."
   ]
  },
  {
   "cell_type": "markdown",
   "id": "a1cb0901-3c7f-458f-a483-1b86ef18143e",
   "metadata": {},
   "source": [
    "## 3. Climate impact including the entire life cycle\n",
    "\n",
    "A similar approach to aircraft production has been used to define the other activities that occur throughout the life cycle related to transporting a passenger, namely:\n",
    "\n",
    "* The airport construction, maintenance and decommission\n",
    "  \n",
    "* The production and distribution of kerosene\n",
    "  \n",
    "* The combustion of kerosene during the flight\n",
    "\n",
    "The decommission of the aircraft at the end of its life (e.g. recycling and disposal) is not taken into account here. All life cycle stages are then aggregated to the final activity, `passenger transport, aircraft`, which is retrieved in the following cell."
   ]
  },
  {
   "cell_type": "code",
   "execution_count": null,
   "id": "420d8845-d4cf-4ca2-8224-d91c6f8ee182",
   "metadata": {},
   "outputs": [],
   "source": [
    "# Activity representing the entire lifecycle related to the transportation of a passenger\n",
    "passenger_transport = agb.findActivity(\n",
    "    name=\"passenger transport, aircraft\",\n",
    "    db_name=USER_DB\n",
    ")"
   ]
  },
  {
   "cell_type": "code",
   "execution_count": null,
   "id": "993d4eac-7ab3-4d77-a29f-28b3fd09c7b9",
   "metadata": {},
   "outputs": [],
   "source": [
    "# Check the unit of the activity\n",
    "passenger_transport['unit']"
   ]
  },
  {
   "cell_type": "markdown",
   "id": "e1734809-8122-4e3f-b21f-047ec4766694",
   "metadata": {},
   "source": [
    "```{admonition} (Exercise) Contribution of aircraft production to climate change\n",
    ":class: tip\n",
    "\n",
    "Run the following cells to evaluate the climate impact for the transportation of one passenger over one kilometer. \n",
    "\n",
    "* Compare the impacts of aircraft production to those obtained in the previous section. Are they similar? If not, what could explain the difference?\n",
    "\n",
    "* What are the main contributors to climate change?\n",
    "```\n"
   ]
  },
  {
   "cell_type": "code",
   "execution_count": null,
   "id": "32e86acc-22fc-4a43-beab-0027a80eb079",
   "metadata": {},
   "outputs": [],
   "source": [
    "results_climate = agb.compute_impacts(\n",
    "    \n",
    "    # Activity to assess\n",
    "    passenger_transport, \n",
    "    \n",
    "    # list of impacts to consider\n",
    "    [climate_change], \n",
    "\n",
    "    # Split impacts to get contributions from each phase of the lifecycle\n",
    "    axis=\"phase\",\n",
    ")\n",
    "results_climate"
   ]
  },
  {
   "cell_type": "code",
   "execution_count": null,
   "id": "1826a3b3-fed4-479a-ae8c-73ad18cc36c3",
   "metadata": {},
   "outputs": [],
   "source": [
    "# Plot the results\n",
    "ax = plot_lca(results_climate)\n",
    "ax.set_title('Climate impact for the transportation of one passenger.kilometer');"
   ]
  },
  {
   "cell_type": "markdown",
   "id": "ee4f1c83-f458-4e61-a18f-3ae66bd5d365",
   "metadata": {},
   "source": [
    "## 4. Extension to other impact categories\n",
    "\n",
    "This section extends the LCA study to assess the impacts of air transport on other environmental categories. The list of LCIA methods is provided below."
   ]
  },
  {
   "cell_type": "code",
   "execution_count": null,
   "id": "061e68ee-a160-4044-9d0a-ab959bff2b3f",
   "metadata": {},
   "outputs": [],
   "source": [
    "# List of impact methods to consider\n",
    "impact_methods = agb.findMethods(\"\", mainCat=\"EF v3.1\")\n",
    "impact_methods = [impact_methods[i] for i in [0, 1, 5, 8, 9, 10, 11, 12, 15, 18, 19, 20, 21, 22, 23, 24]]  # 16 different impact categories\n",
    "\n",
    "# Display the selected methods\n",
    "df = pd.DataFrame(impact_methods, columns=['Methods package', 'Impact category', 'Indicator (unit of measure)'])\n",
    "with pd.option_context('display.max_colwidth', None):\n",
    "  display(df)"
   ]
  },
  {
   "cell_type": "markdown",
   "id": "56e6e97b-7e55-4af5-bd8c-d89e596631db",
   "metadata": {},
   "source": [
    ":::{note} (Hint) Description of impact categories\n",
    "A description of each impact category covered by Environmental Footprint (EF) can be found on page 18 of [this document](https://op.europa.eu/en/publication-detail/-/publication/c43b9684-4521-11ed-92ed-01aa75ed71a1/language-en).\n",
    ":::"
   ]
  },
  {
   "cell_type": "code",
   "execution_count": null,
   "id": "4506ade7-1579-49c4-a990-b311a351993d",
   "metadata": {},
   "outputs": [],
   "source": [
    "# Compute impacts\n",
    "results_lca = agb.compute_impacts(\n",
    "    \n",
    "    # Activity/Process to assess\n",
    "    passenger_transport, \n",
    "    \n",
    "    # list of impacts to consider\n",
    "    impact_methods, \n",
    "\n",
    "    # Get contributions by lifecycle phase\n",
    "    axis=\"phase\",\n",
    ")\n",
    "results_lca"
   ]
  },
  {
   "cell_type": "code",
   "execution_count": null,
   "id": "414745b6-8ed9-4d40-a30d-c55c0367cce3",
   "metadata": {},
   "outputs": [],
   "source": [
    "# Display impacts\n",
    "ax = plot_lca(results_lca)\n",
    "ax.set_title('LCA results');"
   ]
  },
  {
   "cell_type": "code",
   "execution_count": null,
   "id": "a47097cc-1d0f-485b-84b9-e591b5ff962e",
   "metadata": {},
   "outputs": [],
   "source": [
    "# Relative contributions for each impact category\n",
    "ax = plot_lca(results_lca, relative=True)\n",
    "ax.set_title('Relative contributions to LCA results');"
   ]
  },
  {
   "cell_type": "markdown",
   "id": "0a27b33d-a0f2-420d-b79b-6529f7515f14",
   "metadata": {},
   "source": [
    "```{admonition} (Exercise) Main contributors\n",
    ":class: tip\n",
    "\n",
    "What are the main contributors to each impact categories?\n",
    "\n",
    "```\n",
    "\n",
    "```{admonition} Solution\n",
    ":class: dropdown\n",
    "For most of the impact categories, most of the casualties are caused by producing fuel and burning it in flight.\n",
    "\n",
    "```\n",
    "\n",
    "```{admonition} (Exercise) Critical impact categories\n",
    ":class: tip\n",
    "\n",
    "What are the critical impact categories?\n",
    "\n",
    "```\n",
    "\n",
    "```{admonition} Solution\n",
    ":class: dropdown\n",
    "\n",
    "The key point here is what we define as a critical impact category. Critical in relation to what? With respect to the total contribution of human activities? Or relative to other impact categories? If so, how can we define the relative importance of the categories, given that they are expressed with inhomogenous indicators? This is what makes the first graph difficult to read, as we are trying to display multiple impacts measured in different units...\n",
    "\n",
    "One answer to these questions lies in the so-called normalisation and weighting steps, which are carried out in the next section.\n",
    "\n",
    "```"
   ]
  },
  {
   "cell_type": "markdown",
   "id": "b3dd1f1e-3b08-4ae1-ae87-9d957246cff7",
   "metadata": {},
   "source": [
    "## 5. Facilitate interpretation and decision-making: normalisation and weighting\n",
    "\n",
    "Although normalisation and weighting are **not** required by the ISO standards on LCA, they are frequently applied in practice for different reasons, such as identifying important impact categories, understanding the meaning of results by comparing with more familiar references or solving tradeoffs between results. "
   ]
  },
  {
   "cell_type": "markdown",
   "id": "07a0aedb-5d79-4b38-8a96-f43f231b8616",
   "metadata": {},
   "source": [
    "### 5.a) Normalisation\n",
    "\n",
    "```{admonition} Definition\n",
    "According to the ISO 14044 standard on LCA, normalisation is defined as *\"calculating the magnitude of category indicator results relative to reference information\"*. The reference information can be a product (e.g. another mode of transport), a system representing a country or the\n",
    "(e.g. the impact of human activities on a global scale in a given year), or even derived from the planetary boundaries.\n",
    "\n",
    "The purpose of the normalisation step is threefold. It enables\n",
    "\n",
    "1. To compare the results in order to check plausibility (order of magnitude),\n",
    "   \n",
    "2. To compare the results with a reference situation that is external to or independent from the case studies, which may facilitate the interpretation and communication of the impact results,\n",
    "\n",
    "3. To be free of unit constraints as a preparation to the weighting step, with the impacts expressed on a common scale.\n",
    "```\n",
    "\n",
    "\n",
    ":::{caution}\n",
    "The main criticism regarding normalisation is the bias due to the choice of normalisation references, which may change the conclusions of the study. Therefore, the normalisation reference should be clearly stated when communicating the results.\n",
    ":::\n",
    "\n",
    "In this study, the [normalisation factors from the Environmental Footprint method](https://publications.jrc.ec.europa.eu/repository/handle/JRC130796) are used for the normalisation step. The value of these normalisation factors represent the average impacts of a human in the year 2010, such that the normalised LCA results are expressed in \"person equivalent\"."
   ]
  },
  {
   "cell_type": "code",
   "execution_count": null,
   "id": "268bf3f7-6438-412d-be5b-c8daebb514ba",
   "metadata": {},
   "outputs": [],
   "source": [
    "# Normalised results\n",
    "results_norm = results_lca.copy()\n",
    "results_norm[\"acidification - accumulated exceedance (AE)[mol H+-Eq]\"] /= 5.56e01\n",
    "results_norm[\"climate change - global warming potential (GWP100)[kg CO2-Eq]\"] /= 7.55e03\n",
    "results_norm[\"ecotoxicity: freshwater - comparative toxic unit for ecosystems (CTUe)[CTUe]\"] /= 5.67e04\n",
    "results_norm[\"energy resources: non-renewable - abiotic depletion potential (ADP): fossil fuels[MJ, net calorific value]\"] /= 6.50e04\n",
    "results_norm[\"eutrophication: freshwater - fraction of nutrients reaching freshwater end compartment (P)[kg P-Eq]\"] /= 1.61\n",
    "results_norm[\"eutrophication: marine - fraction of nutrients reaching marine end compartment (N)[kg N-Eq]\"] /= 1.95e01\n",
    "results_norm[\"eutrophication: terrestrial - accumulated exceedance (AE)[mol N-Eq]\"] /= 1.77e02\n",
    "results_norm[\"human toxicity: carcinogenic - comparative toxic unit for human (CTUh)[CTUh]\"] /= 1.73e-05\n",
    "results_norm[\"human toxicity: non-carcinogenic - comparative toxic unit for human (CTUh)[CTUh]\"] /= 1.29e-04\n",
    "results_norm[\"ionising radiation: human health - human exposure efficiency relative to u235[kBq U235-Eq]\"] /= 4.22e03\n",
    "results_norm[\"land use - soil quality index[dimensionless]\"] /= 8.19e05\n",
    "results_norm[\"material resources: metals/minerals - abiotic depletion potential (ADP): elements (ultimate reserves)[kg Sb-Eq]\"] /= 6.36e-02\n",
    "results_norm[\"ozone depletion - ozone depletion potential (ODP)[kg CFC-11-Eq]\"] /= 5.23e-02\n",
    "results_norm[\"particulate matter formation - impact on human health[disease incidence]\"] /= 5.95e-04\n",
    "results_norm[\"photochemical oxidant formation: human health - tropospheric ozone concentration increase[kg NMVOC-Eq]\"] /= 4.09e01\n",
    "results_norm[\"water use - user deprivation potential (deprivation-weighted water consumption)[m3 world eq. deprived]\"] /= 1.15e04\n",
    "\n",
    "# Display normalised impacts\n",
    "ax = plot_lca(results_norm, custom_units='person eq.')\n",
    "ax.set_title('Normalised LCA results');"
   ]
  },
  {
   "cell_type": "markdown",
   "id": "cc0fe48f-55ae-4e57-9264-b27e594b5267",
   "metadata": {},
   "source": [
    "### 5.b) Weighting \n",
    "\n",
    "```{admonition} Definition\n",
    "According to the ISO 14044 standard on LCA, weighting is defined as *\"converting and possibly aggregating indicator results across impact categories using numerical factors based on value-choices\"*. The weights applied to the normalised results are intended to reflect the relative importance of impacts according to specific value choices. Examples of weighting approaches include the representation of regulatory targets (e.g. CO2 reduction target), preferences of people, experts or organisations, geography (local versus global) or economic considerations.\n",
    "\n",
    "In particular, weighting can facilitate decision making in situations where tradeoffs between impact category results do not allow choosing one preferable solution among the alternatives or one improvement among possible ones.\n",
    "```\n",
    "\n",
    ":::{caution}\n",
    "Because it is based on value judgement, ISO standards exclude the use of weighting to support comparative assertions intended to be disclosed to the public. However, both normalisation and weighting are mandatory steps in *Environmental Footprint* (EF). In any case, weighted results should not be communicated alone, i.e. they should be accompanied by the characterised and normalised results to ensure transparency.\n",
    ":::\n",
    "\n",
    "In this study, the results are weighted according to EF methods. The list of weighting factors, obtained from a panel of both expert and non-expert individuals, is available [here](https://eplca.jrc.ec.europa.eu/permalink/EF3_1/Normalisation_Weighting_Factors_EF_3.1.xlsx)."
   ]
  },
  {
   "cell_type": "code",
   "execution_count": null,
   "id": "ce61edfb-49ef-4d13-84e7-03065de961f4",
   "metadata": {},
   "outputs": [],
   "source": [
    "# Weighted results\n",
    "results_weighted = results_norm.copy()\n",
    "results_weighted[\"acidification - accumulated exceedance (AE)[mol H+-Eq]\"] *= 0.0620\n",
    "results_weighted[\"climate change - global warming potential (GWP100)[kg CO2-Eq]\"] *= 0.2106\n",
    "results_weighted[\"ecotoxicity: freshwater - comparative toxic unit for ecosystems (CTUe)[CTUe]\"] *= 0.0192\n",
    "results_weighted[\"energy resources: non-renewable - abiotic depletion potential (ADP): fossil fuels[MJ, net calorific value]\"] *= 0.0832\n",
    "results_weighted[\"eutrophication: freshwater - fraction of nutrients reaching freshwater end compartment (P)[kg P-Eq]\"] *= 0.0280\n",
    "results_weighted[\"eutrophication: marine - fraction of nutrients reaching marine end compartment (N)[kg N-Eq]\"] *= 0.0296\n",
    "results_weighted[\"eutrophication: terrestrial - accumulated exceedance (AE)[mol N-Eq]\"] *= 0.0371\n",
    "results_weighted[\"human toxicity: carcinogenic - comparative toxic unit for human (CTUh)[CTUh]\"] *= 0.0213\n",
    "results_weighted[\"human toxicity: non-carcinogenic - comparative toxic unit for human (CTUh)[CTUh]\"] *= 0.0184\n",
    "results_weighted[\"ionising radiation: human health - human exposure efficiency relative to u235[kBq U235-Eq]\"] *= 0.0501\n",
    "results_weighted[\"land use - soil quality index[dimensionless]\"] *= 0.0794\n",
    "results_weighted[\"material resources: metals/minerals - abiotic depletion potential (ADP): elements (ultimate reserves)[kg Sb-Eq]\"] *= 0.0755\n",
    "results_weighted[\"ozone depletion - ozone depletion potential (ODP)[kg CFC-11-Eq]\"] *= 0.0631\n",
    "results_weighted[\"particulate matter formation - impact on human health[disease incidence]\"] *= 0.0896\n",
    "results_weighted[\"photochemical oxidant formation: human health - tropospheric ozone concentration increase[kg NMVOC-Eq]\"] *= 0.0478\n",
    "results_weighted[\"water use - user deprivation potential (deprivation-weighted water consumption)[m3 world eq. deprived]\"] *= 0.0851\n",
    "\n",
    "# Display weighted results\n",
    "ax = plot_lca(results_weighted, custom_units='points')\n",
    "ax.set_title('Normalised and Weighted LCA results');"
   ]
  },
  {
   "cell_type": "markdown",
   "id": "daf50657-8180-47fc-8055-313f78f808f7",
   "metadata": {},
   "source": [
    "```{admonition} (Exercise) Conclusion\n",
    ":class: tip\n",
    "\n",
    "Draw conclusions about the environmental impacts of passenger air transport. Provide some perspectives on how to mitigate these impacts and what methodological steps could be taken to consolidate the LCA study.\n",
    "\n",
    "```"
   ]
  },
  {
   "cell_type": "markdown",
   "id": "f768e114-b250-4e22-aea3-1a3d1021bf02",
   "metadata": {},
   "source": [
    "## Optional exercise: robustness to LCIA methods\n",
    "\n",
    "In the interpretation phase of the LCA, it is important to assess the robustness of the results to some methodological choices. Apart from the definition of the scope of the LCA, robustness to the LCIA methods used in the calculations is important. \n",
    "\n",
    "```{admonition} (Exercise) Comparison of LCIA methods\n",
    ":class: tip\n",
    "\n",
    "In the following cells, different LCIA methods are used to calculate the impact on climate change. Compare the results and explain why they differ. \n",
    "\n",
    "You can also try with other impact categories to investigate which ones are most influenced by the method selection.\n",
    "\n",
    "```\n"
   ]
  },
  {
   "cell_type": "code",
   "execution_count": null,
   "id": "71e79362-b9ea-4cc6-8901-358929227183",
   "metadata": {},
   "outputs": [],
   "source": [
    "# Select different LCIA methods for the climate change category\n",
    "impact_methods = [\n",
    "    ('IPCC 2021', 'climate change', 'global warming potential (GWP100)'),\n",
    "    ('IPCC 2021', 'climate change', 'global warming potential (GWP500)'),\n",
    "    ('IPCC 2021', 'climate change', 'global warming potential (GWP20)'),\n",
    "    ('IPCC 2021', 'climate change', 'global temperature change potential (GTP100)'),\n",
    "    ('IPCC 2021', 'climate change', 'global temperature change potential (GTP50)'),\n",
    "]"
   ]
  },
  {
   "cell_type": "code",
   "execution_count": null,
   "id": "cf2e4201-870e-4d60-a8b2-1766f4603947",
   "metadata": {},
   "outputs": [],
   "source": [
    "# Show results obtained with different LCIA methods\n",
    "results_climate_comparison = agb.compute_impacts(\n",
    "    \n",
    "    # Activity/Process to assess\n",
    "    passenger_transport, \n",
    "    \n",
    "    # list of impacts to consider\n",
    "    impact_methods, \n",
    ")\n",
    "results_climate_comparison"
   ]
  }
 ],
 "metadata": {
  "kernelspec": {
   "display_name": "Python 3 (ipykernel)",
   "language": "python",
   "name": "python3"
  },
  "language_info": {
   "codemirror_mode": {
    "name": "ipython",
    "version": 3
   },
   "file_extension": ".py",
   "mimetype": "text/x-python",
   "name": "python",
   "nbconvert_exporter": "python",
   "pygments_lexer": "ipython3",
   "version": "3.10.14"
  }
 },
 "nbformat": 4,
 "nbformat_minor": 5
}
