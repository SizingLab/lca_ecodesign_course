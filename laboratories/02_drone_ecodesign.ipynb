{
 "cells": [
  {
   "cell_type": "markdown",
   "id": "92e2641b-03cb-407a-ab86-fdcc00d11070",
   "metadata": {},
   "source": [
    "# LCA and design optimization of an electric drone\n",
    "\n",
    "````{card}\n",
    "Author\n",
    "^^^\n",
    "Félix POLLET <br>\n",
    "[felix.pollet@isae-supaero.fr](felix.pollet@isae-supaero.fr)\n",
    "````\n",
    "\n",
    "The aim of this notebook is to study the LCA of transporting packages using a battery-powered drone, and to redesign the drone to reduce the environmental impacts. In particular, we'll be putting ourselves in the role of a drone designer seeking to improve the environmental impact of its products.\n",
    "\n",
    "```{figure} assets/figures/livraison-drone-la-poste.jpg\n",
    "---\n",
    "width: 500px\n",
    "name: directive-fig\n",
    "align: left\n",
    "---\n",
    "January 2024 - La Poste opens its 3rd drone package delivery service in Vercors, France. <br> (*Credits: La Poste*)\n",
    "```"
   ]
  },
  {
   "cell_type": "markdown",
   "id": "d397a580-e319-4e81-962e-c57ef239d5c2",
   "metadata": {},
   "source": [
    "## 1. Goal and scope\n",
    "\n",
    "```{exercise} Goal & scope for drone package transportation\n",
    ":label: goal\n",
    "\n",
    "Propose a definition for the goal and scope.\n",
    "```\n",
    "\n",
    "```{solution} goal\n",
    ":class: dropdown\n",
    "\n",
    "**Goal**<br>\n",
    "The objective of this study is to evaluate the environmental impacts associated with transporting a package using a battery-powered drone. For this purpose, a reference drone will be assessed, and design alternatives will be evaluated for comparison with the reference. In particular, the sensitivity to the size of the drone and the battery technology will be assessed to explore opportunities for reducing the impacts.\n",
    "\n",
    "**Product & Functional Unit**<br>\n",
    "The operation consists of delivering a 2 kg package from point A to point B at a distance of 15 kilometres and a speed of 30 km/h. For this purpose, the drone is required to have a flight endurance of at least 30 minutes. It is assumed that this mission will be carried out 5 times a day (only during working days) for 2 years, i.e. 2500 trips. For better understanding, the functional unit will be reported per unit of package delivered rather than the total number of packages transported.\n",
    "\n",
    "**Boundaries**<br>\n",
    "The study encompasses the production of the drone components and their transportation to the final assembly site. Also included is the electricity required to power the drone during the use phase. The components are treated as wastes at the end of their life, such that no recycling is considered. The processes and facilities required for the final assembly of the drone are excluded from the study, as well as the ground infrastructures and the ancillary systems (e.g., battery chargers) that support the flight operation.\n",
    "\n",
    "**Methodological choices**<br>\n",
    "The impact assessment relies on the EU Product Environmental Footprint (PEF) method v3.1 which covers 16 environmental impacts. Most of the data for the inventory (LCI) relies on the EcoInvent database.\n",
    "```\n"
   ]
  },
  {
   "cell_type": "markdown",
   "id": "5a05d322-c03c-44f0-9dda-a8b44be6df18",
   "metadata": {},
   "source": [
    "### Python setup\n",
    "\n",
    "The following lines enable to setup the LCA project and import the necessary ressources. Run them without any change."
   ]
  },
  {
   "cell_type": "code",
   "execution_count": null,
   "id": "9d3f2c57-7830-422a-9a40-0efd5e17bd02",
   "metadata": {},
   "outputs": [],
   "source": [
    "# Import libraries\n",
    "import brightway2 as bw\n",
    "import os \n",
    "import lca_algebraic as agb\n",
    "from sympy import init_printing\n",
    "import matplotlib.pyplot as plt\n",
    "from assets.helpers import *\n",
    "NETWORK_PATH = './assets/lca_activities.html'\n",
    "\n",
    "# Logging settings\n",
    "import logging\n",
    "logger = logging.getLogger()\n",
    "logger.setLevel(logging.CRITICAL)\n",
    "\n",
    "# Pretty print for Sympy\n",
    "init_printing()\n",
    "\n",
    "# Set current project\n",
    "bw.projects.set_current('LCA_course')\n",
    "agb.resetParams()\n",
    "\n",
    "# Import database for aircraft LCA model\n",
    "USER_DB = 'Foreground Drone'\n",
    "agb.import_db(\"assets/models/db_drone.bw2\")"
   ]
  },
  {
   "cell_type": "markdown",
   "id": "02099a42-9e6c-4a51-a64e-327cecd2a9a3",
   "metadata": {},
   "source": [
    "## 2. Introduction to the *Parametric* Life Cycle Assessment\n",
    "\n",
    "Let's start by importing the activity that aggregates all the necessary inputs and outputs for transporting a package with a drone. The construction of this activity is beyond the scope of this course, but interested readers can have a look at [this notebook](supporting_data/drone_lca_model.ipynb) to see how it has been implemented."
   ]
  },
  {
   "cell_type": "code",
   "execution_count": null,
   "id": "3dc52013-79ab-48dd-89a6-f039cef745f1",
   "metadata": {},
   "outputs": [],
   "source": [
    "# Activity representing the lifecycle related to the transportation of a package with a drone\n",
    "drone_delivery = agb.findActivity(\n",
    "    name=\"package transport, drone\",\n",
    "    db_name=USER_DB\n",
    ")"
   ]
  },
  {
   "cell_type": "markdown",
   "id": "80b3e878-d8b0-4c17-82ba-acf7917f37e3",
   "metadata": {},
   "source": [
    "You can display what is known as a *process tree*, which is a hierarchical representation of the activities and flows required to fulfil the functional unit being assessed. The rectangles represent individual activities. The grey ones are aggregated activities provided directly by the EcoInvent database. The arrows illustrate the flows between each activity, i.e. the amount of a given activity required to complete the parent activity (at the head of the arrow)."
   ]
  },
  {
   "cell_type": "code",
   "execution_count": null,
   "id": "a51649f0-f3d9-4851-9c83-62f6f8021865",
   "metadata": {},
   "outputs": [],
   "source": [
    "# Display process tree\n",
    "graph_activities(USER_DB, drone_delivery, NETWORK_PATH)\n",
    "from IPython.display import IFrame\n",
    "IFrame(src=NETWORK_PATH, width=\"100%\", height=\"500px\")"
   ]
  },
  {
   "cell_type": "markdown",
   "id": "69812c55-bacb-4cfd-a617-79b4bb5cfb78",
   "metadata": {},
   "source": [
    ":::{note}\n",
    "The process tree could be further developed for each EcoInvent activity. However, as a drone designer, we have no direct influence on how these activities are achieved. For example, the industrial processes for manufacturing an electric motor are beyond our control. \n",
    "\n",
    "Therefore, it is common in LCA studies to distinguish the **background** activities, which are considered fixed, from the **foreground** activities, which can be controlled by the organisation. \n",
    "\n",
    "Here, the design of the drone, which includes the size of the components and the energy consumption of the vehicle, is under the influence of the designer. Only these foreground activities can be manipulated to improve the environmental performance of the product.\n",
    ":::\n",
    "\n",
    ":::{hint} Parameterized LCA\n",
    "As shown in the process tree, the amount of activities (i.e. the flows) required to fulfil the functional unit can be described by **parameters** rather than by fixed values. It is therefore possible to evaluate a range of alternative scenarios (typically, different drones) by varying the values of the parameters.\n",
    "\n",
    "A description of the LCA parameters used in this study is provided below. Take some time to understand each parameter and how they relate to the design of the drone or to a broader context of operation.\n",
    ":::"
   ]
  },
  {
   "cell_type": "code",
   "execution_count": null,
   "id": "55c08cef-8446-467b-9373-de169e28b256",
   "metadata": {},
   "outputs": [],
   "source": [
    "# Print description of parameters\n",
    "print_parameters(USER_DB)"
   ]
  },
  {
   "cell_type": "markdown",
   "id": "32795ac5-6da2-40bd-b820-c3399b5320c6",
   "metadata": {},
   "source": [
    "Before going any further, we define the LCIA methods that will be employed in the study:"
   ]
  },
  {
   "cell_type": "code",
   "execution_count": null,
   "id": "44653b3e-97fc-4bf7-a12e-458697268c76",
   "metadata": {},
   "outputs": [],
   "source": [
    "# List of impact methods to consider\n",
    "impact_methods = agb.findMethods(\"\", mainCat=\"EF v3.1\")\n",
    "impact_methods = [impact_methods[i] for i in [0, 1, 5, 8, 9, 10, 11, 12, 15, 18, 19, 20, 21, 22, 23, 24]]\n",
    "\n",
    "# Display the selected methods\n",
    "df = pd.DataFrame(impact_methods, columns=['Methods package', 'Impact category', 'Indicator (unit of measure)'])\n",
    "with pd.option_context('display.max_colwidth', None):\n",
    "    display(df)"
   ]
  },
  {
   "cell_type": "markdown",
   "id": "e27f52c0-3b71-47cb-b3f3-694d9b95093a",
   "metadata": {},
   "source": [
    "## 3. LCA of the reference drone\n",
    "\n",
    "In this section, the LCA of a reference drone that meets the performance requirements defined in the functional unit is carried out. The technical specifications of this drone are provided below.\n",
    "\n",
    "| Drone specificiations      |        |\n",
    "|-----------------------|--------|\n",
    "| Number of propellers / arms     | 4      |\n",
    "| Total mass (including a 2 kg package)           | 4.6 kg     |\n",
    "| Mass of propellers    | 0.43 kg      |\n",
    "| Mass of motors     | 0.52 kg      |\n",
    "| Mass of battery   | 1.08 kg       |\n",
    "| Battery technology     | Li-Ion battery with NMC chemistry (Nickel-Manganese-Cobalt). Lifetime expectancy = 500 charge-discharge cycles.  |\n",
    "| Mass of structures | 0.57  kg     |\n",
    "| Energy consumption per ride (30-minutes mission with a 2 kg package) | 180 Wh    |\n",
    "\n",
    "```{exercise} Impact assessment of the reference drone\n",
    ":label: parameters\n",
    "\n",
    "Fill the parameter values and run the impact assessment. \n",
    "\n",
    "What are the main contributors to the environmental impacts?\n",
    "```"
   ]
  },
  {
   "cell_type": "code",
   "execution_count": null,
   "id": "0c0d4112-8915-4479-9fb7-e32491d90250",
   "metadata": {},
   "outputs": [],
   "source": [
    "# Value of parameters for the reference drone - TO COMPLETE\n",
    "parameters = {\n",
    "    \"elec_mix\": \"eu\",  # \"fr\", \"eu\" or \"us\"\n",
    "    \"n_missions\": 2500,\n",
    "    \"mission_energy\": 0.180,    # [kWh]\n",
    "    \"mass_batteries\": 1.08,     # [kg]\n",
    "    \"battery_type\": \"nmc\",      # \"nmc\" or \"lfp\"\n",
    "    \"n_cycles_battery\": 500,\n",
    "    \"mass_propellers\": 0.43,    # [kg]\n",
    "    \"mass_motors\": 0.52,        # [kg]\n",
    "    \"mass_structure\": 0.57,     # [kg]         \n",
    "}"
   ]
  },
  {
   "cell_type": "code",
   "execution_count": null,
   "id": "9768d00a-152c-493e-97c5-9264e0bc3ef0",
   "metadata": {},
   "outputs": [],
   "source": [
    "# Compute impacts\n",
    "agb.compute_impacts(\n",
    "    \n",
    "    # Activity to assess\n",
    "    drone_delivery, \n",
    "    \n",
    "    # list of impacts to consider\n",
    "    impact_methods, \n",
    "\n",
    "    # values of parameters to apply for calculation\n",
    "    **parameters,\n",
    "\n",
    "    # Get contributions by lifecycle phase\n",
    "    axis=\"phase\",\n",
    ")"
   ]
  },
  {
   "cell_type": "code",
   "execution_count": null,
   "id": "0711acbe-5679-4c17-96c0-23184d2e8c34",
   "metadata": {},
   "outputs": [],
   "source": [
    "# Detailed contributions\n",
    "results_lca = agb.compute_impacts(\n",
    "    drone_delivery, \n",
    "    impact_methods, \n",
    "    **parameters,\n",
    "    axis=\"subphase\",\n",
    ")\n",
    "ax = plot_lca(results_lca, relative=True)\n",
    "ax.set_title('LCA results');"
   ]
  },
  {
   "cell_type": "markdown",
   "id": "f4e3c119-6d5a-4fe8-90e4-e44da07d7541",
   "metadata": {},
   "source": [
    "```{exercise} Sensitivity assessment\n",
    ":label: parameters\n",
    "\n",
    "Are the results sensitive to the electricity mix (France, Europe or US)? To the estimated battery lifetime?\n",
    "```\n",
    "\n",
    ":::{caution}\n",
    "Be careful when modifying the value of some LCA parameters. Although some of them can be changed independently of the others (e.g. the electricity mix is independent of the drone design), others are highly correlated. \n",
    "\n",
    "For example, a drone with a heavier battery will use more energy to power the flight, so the `mass_batteries` and `mission_energy` parameters cannot be changed independently. The value of these parameters should only be set after a design analysis to ensure consistent results. This is explained in bit more detail in the next section.\n",
    ":::\n"
   ]
  },
  {
   "cell_type": "markdown",
   "id": "2e81e038-44db-4b43-8350-426e06b3d302",
   "metadata": {},
   "source": [
    "## 4. Exploration of alternative drone candidates: optimizing the design to reduce environmental impact\n",
    "\n",
    "### 4.a) A bit of context\n",
    "Designing a product, such as a drone, involves making many decisions. For instance, propellers come in a range of sizes and materials. Similarly, batteries are available with different chemistries and capacities. Of course, some choices can be discarded as they won't satisfy the requirements. For example, a small battery won't keep a drone in the air for long. Still, there exist a quasi-infinite number of alternative solutions. With so many options, how do we choose the best design? This is where design optimization comes into play. \n",
    "\n",
    "Design optimization aims to identify the most optimal design given a set of requirements (e.g., the drone should be able to lift a one kilogram package during 25 minutes). However, it is crucial to define what constitutes \"optimal\". Usually, the best design is defined as a balance between different factors, with economic considerations playing a pivotal role. For example, we might want a drone that's cheap to manufacture and/or to operate.\n",
    "\n",
    "In this section, we'll explore different drone designs, each optimized based on different criteria. Specifically, we'll consider:\n",
    "\n",
    "- The lightest drone that still meets the mission requirements\n",
    "\n",
    "- The one that consumes the least energy for performing the mission (is it the lightest?)\n",
    "\n",
    "- The one with the minimal environmental impact, such as mitigating climate change.\n",
    "\n",
    ":::{hint} Design optimization in a nutshell\n",
    "Design optimization is like finding the perfect recipe for a dish. You have a list of ingredients (design options) and you want to combine them in the best way to create the most delicious meal (optimal design).\n",
    "\n",
    "In engineering, it's similar. You have various design choices, such as materials, dimensions, and configurations. Design optimization helps you figure out the ideal combination of these choices to meet your goals, whether it's maximizing performance, minimizing cost, or reducing environmental impact.\n",
    "\n",
    "Using physical models and numerical algorithms, design optimization searches through all the possible combinations to find the one that best meets your criteria.\n",
    ":::\n",
    "\n",
    ":::{hint} Mathematical formulation\n",
    "Mathematically, a design optimization problem can be expressed as follows:\n",
    "\n",
    "```{math}\n",
    ":label: mymath\n",
    "\\begin{align*}\n",
    "&{\\operatorname{minimize}}& & f(x) \\\\\n",
    "&\\operatorname{with\\;respect\\;to}\n",
    "& &x \\in X \\subseteq R^n \\\\\n",
    "&\\operatorname{subject\\;to}\n",
    "& &h_i(x) = 0, \\quad i = 1, \\dots,m_1 \\\\ \n",
    "&&&g_j(x) \\leq 0, \\quad j = 1,\\dots,m_2 \\\\\n",
    "\\end{align*}\n",
    "```\n",
    "\n",
    "The **design variables** $x$ represent the parameters that can be changed in the design, such as dimensions, materials, or configurations (e.g. 4, 6 or 8 propellers). Each variable has a range or set of possible values that it can take.\n",
    "\n",
    "The **objective function** $f(x)$ represent what must be optimized, for example the total mass of the drone.\n",
    "\n",
    "The **constraints** $g(x)$ and $h(x)$ reflect some physical limitations (e.g. the propellers should not overlap) or performance requirements (e.g. flight endurance), among others.\n",
    ":::\n",
    "\n",
    ":::{note} *Design* versus *Sizing*\n",
    "The definition of a design optimization problem can be divided into three main sub-problems: material/technology selection, configuration selection and finally sizing, i.e. dimensioning of the components.\n",
    "\n",
    "In this section, only the sizing sub-problem is addressed. The drone configuration is fixed to a quadcopter, i.e. with four propellers. The material for the structure and the propellers is set to a composite fabric. Finally, a Li-ion NMC battery technology is selected. Therefore, only the following dimensions of the components will be varied during the optimization:\n",
    "- Propeller diameter\n",
    "  \n",
    "- Motor size\n",
    "  \n",
    "- Battery capacity\n",
    "  \n",
    "- Arms length\n",
    ":::\n"
   ]
  },
  {
   "cell_type": "markdown",
   "id": "3e88b374-7378-4bd6-817d-7fee3f313c41",
   "metadata": {},
   "source": [
    "### 4.b) The calculations\n",
    "\n",
    "Do not worry, we are not asking you to create a design optimization solver from scratch. Instead, this notebook provides you with the `sizing_optimization` function, which will perform the optimization routine for you. All you have to do is define some input values such as the performance requirements, call the `sizing_optimization` function, and voila! You have an optimal drone design on which you can then perform an impact assessment.\n",
    "\n",
    "Let's start by importing this magic function and set up some values for the design problem:"
   ]
  },
  {
   "cell_type": "code",
   "execution_count": null,
   "id": "7b5257a6-246c-4b2e-bcb9-b668b1a814ec",
   "metadata": {},
   "outputs": [],
   "source": [
    "# Import the functions that executes the sizing optimization\n",
    "from assets.drone_sizing import sizing_optimization\n",
    "\n",
    "### Performance requirements for the mission\n",
    "performances = [\n",
    "    2.0,  # [kg] mass of the package to lift\n",
    "    30.0, # [min] flight duration\n",
    "]\n",
    "\n",
    "### Reference technology for the battery\n",
    "technology = [\n",
    "    200.0,   # [Wh/kg] energy density of the battery (Li-Ion NMC technology)\n",
    "]\n",
    "\n",
    "### Other specific LCA parameters\n",
    "lca_param = {\n",
    "    \"battery_type\": \"nmc\",\n",
    "    \"n_cycles_battery\": 500,\n",
    "    \"elec_mix\": \"eu\",\n",
    "    \"n_missions\": 2500,\n",
    "    \"lca_model\": drone_delivery\n",
    "}"
   ]
  },
  {
   "cell_type": "markdown",
   "id": "7a172e62-9672-4f77-8f07-3a58f5c900e8",
   "metadata": {},
   "source": [
    "Now, we run the sizing optimization with a mass minimization objective, i.e. we want to obtain the lightest drone possible:"
   ]
  },
  {
   "cell_type": "code",
   "execution_count": null,
   "id": "a54b005f-0880-45b6-a87f-98538d7c5007",
   "metadata": {},
   "outputs": [],
   "source": [
    "# Set objective to minimize\n",
    "objective = 'mass'\n",
    "\n",
    "# Run optimization\n",
    "drone_parameters, lca_parameters = sizing_optimization(performances, technology, lca_param, objective)  # this optimizes the design according to the specifications\n",
    "\n",
    "# Print parameters of the optimal drone\n",
    "drone_parameters"
   ]
  },
  {
   "cell_type": "markdown",
   "id": "c59f0f45-4784-4c1b-8c10-5536f890161b",
   "metadata": {},
   "source": [
    "This is our lightest drone that is able to complete the package delivery mission. Let's calculate and visualize its environmental impacts:"
   ]
  },
  {
   "cell_type": "code",
   "execution_count": null,
   "id": "7d691728-1747-499e-90c1-ed84f0c7e592",
   "metadata": {},
   "outputs": [],
   "source": [
    "# Compute LCA corresponding to optimal design\n",
    "results_lca_mass = agb.compute_impacts(\n",
    "    drone_delivery, \n",
    "    impact_methods, \n",
    "    **lca_parameters.to_dict()['value'],\n",
    "    axis=\"subphase\",\n",
    ")\n",
    "plot_lca(results_lca_mass, relative=True)"
   ]
  },
  {
   "cell_type": "markdown",
   "id": "ec042a17-da75-4829-93f1-384d715ca5a6",
   "metadata": {},
   "source": [
    "```{exercise} Comparative study\n",
    ":label: comparative\n",
    "\n",
    "Re-run the optimization by changing the objective. The objective can be one of the following:\n",
    "\n",
    "- `'energy'`: to find the most energy-efficient design\n",
    "\n",
    "- `('EF v3.1', 'climate change', 'global warming potential (GWP100)')` to minimize the climate change\n",
    "\n",
    "- Or any other environmental impact category (refer to the LCIA methods table at the beginning of this notebook)\n",
    "\n",
    "Then, compare the different drone designs and their LCA results. Identify the burden shifts (if any) from one life cycle stage to another, and/or from one impact category to another.\n",
    "\n",
    "```"
   ]
  },
  {
   "cell_type": "code",
   "execution_count": null,
   "id": "47d0d723-ecfa-410d-ae18-c5492fe4621b",
   "metadata": {},
   "outputs": [],
   "source": [
    "# Set objective to minimize\n",
    "objective = ...\n",
    "\n",
    "# Run optimization\n",
    "drone_parameters, lca_parameters = sizing_optimization(performances, technology, lca_param, objective)  # this optimizes the design according to the specifications\n",
    "\n",
    "# Compute LCA of corresponding design\n",
    "results_lca_energy = agb.compute_impacts(\n",
    "    drone_delivery, \n",
    "    impact_methods, \n",
    "    **lca_parameters.to_dict()['value'],\n",
    "    axis=\"subphase\",\n",
    ")\n",
    "drone_parameters"
   ]
  },
  {
   "cell_type": "code",
   "execution_count": null,
   "id": "90a71f05-e22b-4e8d-91d0-7423918e1531",
   "metadata": {},
   "outputs": [],
   "source": [
    "# ... TO COMPLETE"
   ]
  },
  {
   "cell_type": "code",
   "execution_count": null,
   "id": "5afc8329-3280-45ac-9c6c-4828a16a7a95",
   "metadata": {},
   "outputs": [],
   "source": [
    "# Plot comparison of LCA results\n",
    "plot_lca_comparison([results_lca_mass, results_lca_energy, results_lca_climate])"
   ]
  },
  {
   "cell_type": "markdown",
   "id": "c29612fc-82b7-46cb-95e8-052d6d3cfd7f",
   "metadata": {},
   "source": [
    "### 4.c) Multi-objective optimization\n",
    "\n",
    "In most situations, it is not possible to find a design that minimizes all environmental impacts simultaneously, as the goals might be conflicting. It is therefore necessary to make a trade-off between the various objectives to allow choosing one preferable solution among the alternatives. This is the purpose of **multi-objective optimization**.\n",
    "\n",
    "One way to achieve multi-objective optimization is to build an aggreagated objective which reflects the relative importance of the different objectives. This is achieved by assigning weights $\\omega_i$ to each objective $f_i$:\n",
    "```{math}\n",
    "\\begin{align}\n",
    "f = \\sum_i^n \\omega_i f_i\n",
    "\\end{align}\n",
    "```\n",
    "\n",
    "Properly setting and interpreting weights is crucial to ensure that the resulting solution reflects the intended trade-offs and preferences. In this case study, the weights are set up to reflect the [normalization and weighting factors of the EF methods](https://eplca.jrc.ec.europa.eu/permalink/EF3_1/Normalisation_Weighting_Factors_EF_3.1.xlsx).\n",
    "\n",
    "```{exercise} Multi-objective optimization\n",
    ":label: multiobj\n",
    "\n",
    "Run the multi-objective optimization and compare the results with those obtained previously.  \n",
    "\n",
    "Given the potentially low fidelity of the physical models used in the design optimization, and the uncertainty on the environmental data supporting the LCA, be critical of the accuracy of the results.\n",
    "```"
   ]
  },
  {
   "cell_type": "code",
   "execution_count": null,
   "id": "075b3b62-dbef-4d28-8b11-ed1cad26fa59",
   "metadata": {},
   "outputs": [],
   "source": [
    "# Multi-objective\n",
    "objective = {\n",
    "    ('EF v3.1', 'climate change', 'global warming potential (GWP100)'): 0.2106/7.55E+03,  # divide by EF normalisation factor and multiply by EF weighting factor\n",
    "    ('EF v3.1', 'acidification', 'accumulated exceedance (AE)'): 0.0620/5.56E+01,\n",
    "    ('EF v3.1', 'ecotoxicity: freshwater', 'comparative toxic unit for ecosystems (CTUe)'): 0.0192/5.67E+04,\n",
    "    ('EF v3.1', 'energy resources: non-renewable', 'abiotic depletion potential (ADP): fossil fuels'): 0.0832/6.50E+04,\n",
    "    ('EF v3.1', 'eutrophication: freshwater', 'fraction of nutrients reaching freshwater end compartment (P)'): 0.0280/1.61,\n",
    "    ('EF v3.1', 'eutrophication: marine', 'fraction of nutrients reaching marine end compartment (N)'): 0.0296/1.95E+01,\n",
    "    ('EF v3.1', 'eutrophication: terrestrial', 'accumulated exceedance (AE)'): 0.0371/1.77E+02,\n",
    "    ('EF v3.1', 'human toxicity: carcinogenic', 'comparative toxic unit for human (CTUh)'): 0.0213/1.73E-05,\n",
    "    ('EF v3.1', 'human toxicity: non-carcinogenic', 'comparative toxic unit for human (CTUh)'): 0.0184/1.29E-04,\n",
    "    ('EF v3.1', 'ionising radiation: human health', 'human exposure efficiency relative to u235'): 0.0501/4.22E+03,\n",
    "    ('EF v3.1', 'land use', 'soil quality index'): 0.0794/8.19E+05,\n",
    "    ('EF v3.1', 'material resources: metals/minerals', 'abiotic depletion potential (ADP): elements (ultimate reserves)'): 0.0755/6.36E-02,\n",
    "    ('EF v3.1', 'ozone depletion', 'ozone depletion potential (ODP)'): 0.0631/5.23E-02,\n",
    "    ('EF v3.1', 'particulate matter formation', 'impact on human health'): 0.0896/5.95E-04,\n",
    "    ('EF v3.1', 'photochemical oxidant formation: human health', 'tropospheric ozone concentration increase'): 0.0478/4.09E+01,\n",
    "    ('EF v3.1', 'water use', 'user deprivation potential (deprivation-weighted water consumption)'): 0.0851/1.15E+04,\n",
    "}\n",
    "\n",
    "# Run design optimization\n",
    "drone_parameters, lca_parameters = sizing_optimization(performances, technology, lca_param, objective)  # this optimizes the design according to the specifications\n",
    "\n",
    "# Compute LCA\n",
    "results_lca_multi = agb.compute_impacts(\n",
    "    drone_delivery, \n",
    "    impact_methods, \n",
    "    **lca_parameters.to_dict()['value'],\n",
    "    axis=\"phase\",\n",
    ")\n",
    "drone_parameters"
   ]
  },
  {
   "cell_type": "code",
   "execution_count": null,
   "id": "b2941d11-cd21-4dc0-ada8-0719f4ef197c",
   "metadata": {},
   "outputs": [],
   "source": [
    "# Plot comparison of LCA results\n",
    "plot_lca_comparison([results_lca_climate, results_lca_multi])"
   ]
  },
  {
   "cell_type": "markdown",
   "id": "16b02650-88ed-4e84-8e38-5e2eb9459c72",
   "metadata": {},
   "source": [
    "## 5. Comparison of battery technologies\n",
    "\n",
    "There are several battery technologies or chemistries that can be used in air mobility applications. The following table shows the specifications of two types of batteries.\n",
    "\n",
    "| Battery technology | Energy density | Average lifetime (number of charge-discharge cycles) |\n",
    "|------------------|--------------------|------------------|\n",
    "| Li-Ion NMC (Nickel-Manganese-Cobalt cathode)       | 200 Wh/kg          | 500              |\n",
    "| Li-Ion LFP (Lithium Ferro Phosphate cathode)     | 130 Wh/kg          | 2000             |\n",
    "\n",
    "\n",
    "```{exercise} Light vs durable: who wins?\n",
    ":label: battery\n",
    "\n",
    "The table above shows that the NMC battery is lighter than its counterpart for the same amount of stored energy. As a result, a drone design using this type of battery will be lighter and consume less energy during flight. However, NMC batteries are less durable than LFPs and will need to be replaced (so produced) more often.\n",
    "\n",
    "Is it better to use an NMC or an LFP battery to design a drone with minimal environmental impacts? Run the following cells and analyse the results. Identify the burden shifts from one life cycle stage to another and from one impact category to another.\n",
    "\n",
    "```\n"
   ]
  },
  {
   "cell_type": "code",
   "execution_count": null,
   "id": "1582bfb3-501e-4b40-8aa3-537f1419edb6",
   "metadata": {},
   "outputs": [],
   "source": [
    "### Performance requirements for the mission\n",
    "performances = [\n",
    "    2.0,  # [kg] mass of payload (package) to lift\n",
    "    30.0, # [min] flight duration\n",
    "]\n",
    "\n",
    "### Reference technology for the battery\n",
    "technology = [\n",
    "    130.0,   # [Wh/kg] rapport énergie/masse de la batterie\n",
    "]\n",
    "\n",
    "### Other specific LCA parameters\n",
    "lca_param = {\n",
    "    \"elec_mix\": \"eu\",\n",
    "    \"n_missions\": 2500,\n",
    "    \"n_cycles_battery\": 2000,\n",
    "    \"battery_type\": \"lfp\",\n",
    "    \"lca_model\": drone_delivery\n",
    "}"
   ]
  },
  {
   "cell_type": "code",
   "execution_count": null,
   "id": "d07b28c9-b545-4d5b-a4a5-1a2be3bd36d3",
   "metadata": {},
   "outputs": [],
   "source": [
    "# Run optimization\n",
    "drone_parameters, lca_parameters = sizing_optimization(performances, technology, lca_param, objective)  # this optimizes the design according to the specifications\n",
    "\n",
    "# Compute LCA corresponding to optimal design\n",
    "results_lca_multi_lfp = agb.compute_impacts(\n",
    "    drone_delivery, \n",
    "    impact_methods, \n",
    "    **lca_parameters.to_dict()['value'],\n",
    "    axis=\"phase\",\n",
    ")\n",
    "drone_parameters"
   ]
  },
  {
   "cell_type": "code",
   "execution_count": null,
   "id": "2472a505-4e8f-410d-ad3f-df5e24912172",
   "metadata": {},
   "outputs": [],
   "source": [
    "# Plot comparison of LCA results\n",
    "plot_lca_comparison([results_lca_multi, results_lca_multi_lfp])"
   ]
  },
  {
   "cell_type": "markdown",
   "id": "d138bad8-92fa-4b6b-a2ba-43240cef29ce",
   "metadata": {},
   "source": [
    "## Optional exercise: uncertainty assessment\n",
    "\n",
    "To wrap up our exploration of LCA, it's important to recognize the role of uncertainty in LCA results. Among other sources of uncertainty, the high variability in the inventory data can lead to a wide range of possible outcomes for each environmental impact category. In this final exercise, we'll use Monte Carlo simulation to quantify this uncertainty.\n",
    "\n",
    "```{hint} Monte Carlo simulation\n",
    "Monte Carlo simulation involves running numerous evluations of the LCA model with varying LCI data inputs, allowing us to generate a distribution of outcomes for each impact category. By visualizing these distributions, we gain a better understanding of the uncertainty surrounding our LCA results and can identify the range of potential environmental impacts.\n",
    "```\n",
    "\n",
    "```{caution} Sources of uncertainty\n",
    "Uncertainty in LCA results isn't solely due to variability in the inventory data. Other significant factors include the limitations and inaccuracies in the models used for the LCIA, as well as, especially during early design phases, uncertainty about the actual parameters of the system being studied (such as component weights).\n",
    "```"
   ]
  },
  {
   "cell_type": "code",
   "execution_count": null,
   "id": "e8da4fe9-5de5-4b1c-9261-53f3ee71052b",
   "metadata": {},
   "outputs": [],
   "source": [
    "# Run Monte Carlo\n",
    "res = lca_monte_carlo(\n",
    "    drone_delivery, # the model\n",
    "    impact_methods, # impacts to assess \n",
    "\n",
    "    # Number of Monte Carlo runs (1000 runs will take 1-2 minutes to compute)\n",
    "    n_runs=1000, \n",
    "    \n",
    "    # Whether uncertainty on characterization factors (LCIA models) is taken into account or not\n",
    "    cfs_uncertainty = False,\n",
    "\n",
    "    # Parameters of the model\n",
    "    **lca_parameters.to_dict()['value']\n",
    ")"
   ]
  },
  {
   "cell_type": "code",
   "execution_count": null,
   "id": "3e17549f-b353-4b37-96a8-bbe623c0ce9c",
   "metadata": {},
   "outputs": [],
   "source": [
    "# Display statistical results\n",
    "res.describe()"
   ]
  },
  {
   "cell_type": "code",
   "execution_count": null,
   "id": "6f6b2184-4acd-479a-8c9b-2f1d293a3ea7",
   "metadata": {},
   "outputs": [],
   "source": [
    "# Plot distributions\n",
    "import seaborn as sns\n",
    "\n",
    "for column in res.columns:\n",
    "    f, (ax_box, ax_hist) = plt.subplots(2, sharex=True, gridspec_kw={\"height_ratios\": (.15, .85)}, figsize=(4,4))\n",
    "    sns.kdeplot(res[column], fill=True, ax=ax_hist)\n",
    "    sns.boxplot(res[column], ax=ax_box, orient=\"h\")"
   ]
  }
 ],
 "metadata": {
  "kernelspec": {
   "display_name": "Python 3 (ipykernel)",
   "language": "python",
   "name": "python3"
  },
  "language_info": {
   "codemirror_mode": {
    "name": "ipython",
    "version": 3
   },
   "file_extension": ".py",
   "mimetype": "text/x-python",
   "name": "python",
   "nbconvert_exporter": "python",
   "pygments_lexer": "ipython3",
   "version": "3.10.14"
  }
 },
 "nbformat": 4,
 "nbformat_minor": 5
}
