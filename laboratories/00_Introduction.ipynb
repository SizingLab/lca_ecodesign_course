{
 "cells": [
  {
   "cell_type": "markdown",
   "id": "e9dde801-accf-4627-bc31-d93492d5f21a",
   "metadata": {},
   "source": [
    "# Introduction\n",
    "\n",
    "````{card}\n",
    "Author\n",
    "^^^\n",
    "Félix POLLET <br>\n",
    "[felix.pollet@isae-supaero.fr](felix.pollet@isae-supaero.fr)\n",
    "````\n",
    "\n",
    "## Overview\n",
    "\n",
    "This course is designed to help you gain hands-on experience with Life Cycle Assessment (LCA) and learn how to use LCA to drive sustainable practices. It is structured around two distinct applications:\n",
    "\n",
    "1. [**LCA of Passenger Transportation by Aircraft**](./01_aircraft_lca.ipynb) <br>\n",
    "In this application, you will explore the environmental footprint of passenger transportation via aircraft and gain insights into the key contributors to the aircraft's environmental impacts.\n",
    "\n",
    "2. [**Eco-design to Minimize Environmental Impacts of a Drone**](./02_drone_ecodesign.ipynb)<br>\n",
    "   The second application centers on designing a drone with sustainability in mind. You'll examine how different design choices can reduce environmental impacts and confront the critical challenge of making trade-off decisions.\n",
    "\n",
    "\n",
    "```{note} Prerequisites\n",
    "The course is designed to be accessible to learners from diverse backgrounds. Basic knowledge of Python programming is helpful but not required. The aim is not to make you an expert LCA developer or practitioner, but to give you the basic skills to analyze the results of an LCA and make informed decisions based on the results.\n",
    "\n",
    "```\n",
    "\n",
    "```{seealso} LCA software and resources used in this course\n",
    "The course, presented in the form of interactive [Jupyter Notebooks](https://jupyter.org/), makes use of the following software and resources:\n",
    "\n",
    "**Software**: Most of the calculations and analyses carried out in the notebooks rely on the open-source [Brightway](https://docs.brightway.dev/en/latest/) and [lca_algebraic](https://github.com/oie-mines-paristech/lca_algebraic) Python libraries.\n",
    "\n",
    "**LCI database**: The life cycle inventory database [EcoInvent](https://ecoinvent.org/) will be used to support the LCA studies.\n",
    "\n",
    "Again, you don't need to have prior experience with these tools. The Jupyter Notebooks contain pre-defined functions and code snippets, allowing you to focus on exploring LCA concepts and conducting exercises without worrying about complex software manipulation.\n",
    "\n",
    "```\n",
    "\n",
    "## Ready to start?\n",
    "Before delving into the case studies, we start here by creating a new project and importing the necessary packages and resources. Execute the following cells by clicking on it and hitting **Shift+Enter**."
   ]
  },
  {
   "cell_type": "markdown",
   "id": "4642b102-160f-476a-a649-58304c3c8d2c",
   "metadata": {},
   "source": [
    "### Option A) For Jupyter Hub users (ISAE students)\n",
    "\n",
    ":::{note} Jupyter Hub\n",
    "If you are running this notebook on the [Jupyter Hub of ISAE-SUPAERO](https://jupyter.isae-supaero.fr/), make sure to select the `lca course` kernel by clicking on the upper right of your screen:\n",
    "\n",
    "```{figure} assets/figures/kernel_1.png\n",
    "---\n",
    "width: 600px\n",
    "name: directive-fig\n",
    "align: center\n",
    "---\n",
    "```\n",
    "\n",
    "Then, run the following cells.\n",
    ":::\n"
   ]
  },
  {
   "cell_type": "code",
   "execution_count": null,
   "id": "935a31a1-621d-403f-b430-d3dcb8a4d367",
   "metadata": {},
   "outputs": [],
   "source": [
    "# This sets the correct path to brigthway directory\n",
    "from assets.bw_setup import set_brightway_path\n",
    "user = \"...\"  # replace with your login (p.nom)\n",
    "directory = f\"/scratch/student/{user}/Brightway3\"\n",
    "set_brightway_path(directory)"
   ]
  },
  {
   "cell_type": "code",
   "execution_count": null,
   "id": "0987f7a8-8062-4a53-9a89-8b2cca690fd6",
   "metadata": {},
   "outputs": [],
   "source": [
    "# This imports a pre-configured brightway project\n",
    "import bw2io\n",
    "bw2io.backup.restore_project_directory(\n",
    "    fp=f'/scratch/dcas/{user}/Brightway3/brightway2-project-LCA_course-backup.tar.gz',\n",
    "    project_name='LCA_course'\n",
    ")"
   ]
  },
  {
   "cell_type": "markdown",
   "id": "74c89088-33c0-4887-8803-42e487d656e4",
   "metadata": {},
   "source": [
    "### Option B) For other users\n",
    "\n",
    "This course requires to create a new Brightway project and import the EcoInvent database. To do so, run the following cell with the appropriate path to your EcoInvent database.\n",
    "\n",
    ":::{attention}\n",
    "The setup takes a few minutes. Be patient!\n",
    ":::"
   ]
  },
  {
   "cell_type": "code",
   "execution_count": 13,
   "id": "919995a9-8564-4829-88fe-6dff5c074b24",
   "metadata": {},
   "outputs": [
    {
     "name": "stdout",
     "output_type": "stream",
     "text": [
      "Biosphere database already present!!! No setup is needed\n",
      "/Users/f.pollet/Library/Application Support/Brightway3/LCA_course.c23bf133e31170a498653621697287a1\n"
     ]
    }
   ],
   "source": [
    "# Import libraries\n",
    "import brightway2 as bw\n",
    "import bw2io\n",
    "import py7zr\n",
    "import os\n",
    "\n",
    "# Set the current project\n",
    "project_name = 'LCA_course'\n",
    "bw.projects.set_current(project_name)\n",
    "bw2io.bw2setup()\n",
    "\n",
    "# Install EcoInvent and LCIA methods\n",
    "db_name = \"ecoinvent 3.9.1 cutoff\"\n",
    "db_path = path/to/your/ecoinvent/ecoSpold02  #f\"/scratch/student/{user}/Brightway3/ecoinvent 3.9.1_cutoff_ecoSpold02\"\n",
    "\n",
    "if db_name not in bw.databases:\n",
    "    \n",
    "    # Unzip the database archive\n",
    "    if not os.path.exists(db_path):\n",
    "        with py7zr.SevenZipFile(db_path + '.7z') as f:\n",
    "            f.extractall(db_path)\n",
    "\n",
    "    # Import in Brightway\n",
    "    ei = bw2io.SingleOutputEcospold2Importer(f\"{db_path}/datasets\", db_name)\n",
    "    ei.apply_strategies()\n",
    "    ei.statistics()\n",
    "    ei.drop_unlinked(i_am_reckless=True)\n",
    "    ei.write_database()"
   ]
  }
 ],
 "metadata": {
  "kernelspec": {
   "display_name": "Python 3 (ipykernel)",
   "language": "python",
   "name": "python3"
  },
  "language_info": {
   "codemirror_mode": {
    "name": "ipython",
    "version": 3
   },
   "file_extension": ".py",
   "mimetype": "text/x-python",
   "name": "python",
   "nbconvert_exporter": "python",
   "pygments_lexer": "ipython3",
   "version": "3.10.14"
  }
 },
 "nbformat": 4,
 "nbformat_minor": 5
}
